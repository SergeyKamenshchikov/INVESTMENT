{
 "cells": [
  {
   "cell_type": "markdown",
   "metadata": {},
   "source": [
    "Rules:"
   ]
  },
  {
   "cell_type": "code",
   "execution_count": 141,
   "metadata": {},
   "outputs": [],
   "source": [
    "rem_warnings = True"
   ]
  },
  {
   "cell_type": "markdown",
   "metadata": {},
   "source": [
    "Investment parameters (weeks):"
   ]
  },
  {
   "cell_type": "code",
   "execution_count": 142,
   "metadata": {},
   "outputs": [],
   "source": [
    "horizon = 156 #weeks\n",
    "horizon_max = 156 #3Y\n",
    "scale = 56 #1Y"
   ]
  },
  {
   "cell_type": "markdown",
   "metadata": {},
   "source": [
    "Statistical parameters:"
   ]
  },
  {
   "cell_type": "code",
   "execution_count": 143,
   "metadata": {},
   "outputs": [],
   "source": [
    "p = 0.95 #quantile"
   ]
  },
  {
   "cell_type": "markdown",
   "metadata": {},
   "source": [
    "Drop warnings:"
   ]
  },
  {
   "cell_type": "code",
   "execution_count": 144,
   "metadata": {},
   "outputs": [],
   "source": [
    "import warnings\n",
    "if rem_warnings is True:\n",
    "    warnings.filterwarnings('ignore')"
   ]
  },
  {
   "cell_type": "markdown",
   "metadata": {},
   "source": [
    "Libraries:"
   ]
  },
  {
   "cell_type": "code",
   "execution_count": 145,
   "metadata": {},
   "outputs": [],
   "source": [
    "import pandas as pd\n",
    "import numpy as np\n",
    "import scipy as sc\n",
    "import math\n",
    "from matplotlib import pyplot as plt\n",
    "from statsmodels.graphics.tsaplots import plot_acf"
   ]
  },
  {
   "cell_type": "markdown",
   "metadata": {},
   "source": [
    "Read data:"
   ]
  },
  {
   "cell_type": "code",
   "execution_count": 146,
   "metadata": {},
   "outputs": [],
   "source": [
    "df_sap = pd.read_csv('data/sap.csv', delimiter=',', names=['date', 'time', 'open', 'high', 'low', 'close', 'volume'])\n",
    "df_gold = pd.read_csv('data/gold.csv', delimiter=',', names=['date', 'time', 'open', 'high', 'low', 'close', 'volume'])"
   ]
  },
  {
   "cell_type": "markdown",
   "metadata": {},
   "source": [
    "Drop columns:"
   ]
  },
  {
   "cell_type": "code",
   "execution_count": 147,
   "metadata": {},
   "outputs": [],
   "source": [
    "df_sap = df_sap.dropna(how='any', axis=0)[['date', 'close']].rename(columns={'close': 'close_sap'})\n",
    "df_gold = df_gold.dropna(how='any', axis=0)[['date', 'close']].rename(columns={'close': 'close_gold'})"
   ]
  },
  {
   "cell_type": "markdown",
   "metadata": {},
   "source": [
    "Merging:"
   ]
  },
  {
   "cell_type": "code",
   "execution_count": 148,
   "metadata": {},
   "outputs": [],
   "source": [
    "df = pd.merge(df_sap, df_gold, on='date')\n",
    "df.dropna(how='any', axis=0, inplace=True)"
   ]
  },
  {
   "cell_type": "markdown",
   "metadata": {},
   "source": [
    "Returns definition:"
   ]
  },
  {
   "cell_type": "code",
   "execution_count": 149,
   "metadata": {
    "scrolled": true
   },
   "outputs": [],
   "source": [
    "df[['return_sap', 'return_gold']] = df[['close_sap', 'close_gold']].apply(np.log)\n",
    "df[['return_sap', 'return_gold']] = 100*df[['return_sap', 'return_gold']].diff(periods=horizon)\n",
    "df = df.tail(len(df) - horizon_max)"
   ]
  },
  {
   "cell_type": "markdown",
   "metadata": {},
   "source": [
    "Dates:"
   ]
  },
  {
   "cell_type": "code",
   "execution_count": 150,
   "metadata": {},
   "outputs": [
    {
     "name": "stdout",
     "output_type": "stream",
     "text": [
      "Start date: 2001.09.02\n",
      "End date: 2019.10.20\n"
     ]
    }
   ],
   "source": [
    "print('Start date:', str(list(df['date'])[0]))\n",
    "print('End date:', str(list(df['date'])[-1]))"
   ]
  },
  {
   "cell_type": "markdown",
   "metadata": {},
   "source": [
    "Description:"
   ]
  },
  {
   "cell_type": "code",
   "execution_count": 151,
   "metadata": {
    "scrolled": true
   },
   "outputs": [
    {
     "data": {
      "text/html": [
       "<div>\n",
       "<style scoped>\n",
       "    .dataframe tbody tr th:only-of-type {\n",
       "        vertical-align: middle;\n",
       "    }\n",
       "\n",
       "    .dataframe tbody tr th {\n",
       "        vertical-align: top;\n",
       "    }\n",
       "\n",
       "    .dataframe thead th {\n",
       "        text-align: right;\n",
       "    }\n",
       "</style>\n",
       "<table border=\"1\" class=\"dataframe\">\n",
       "  <thead>\n",
       "    <tr style=\"text-align: right;\">\n",
       "      <th></th>\n",
       "      <th>return_sap</th>\n",
       "      <th>return_gold</th>\n",
       "    </tr>\n",
       "  </thead>\n",
       "  <tbody>\n",
       "    <tr>\n",
       "      <td>count</td>\n",
       "      <td>937.000000</td>\n",
       "      <td>937.000000</td>\n",
       "    </tr>\n",
       "    <tr>\n",
       "      <td>mean</td>\n",
       "      <td>11.643483</td>\n",
       "      <td>25.547945</td>\n",
       "    </tr>\n",
       "    <tr>\n",
       "      <td>std</td>\n",
       "      <td>28.418720</td>\n",
       "      <td>31.631553</td>\n",
       "    </tr>\n",
       "    <tr>\n",
       "      <td>min</td>\n",
       "      <td>-63.075086</td>\n",
       "      <td>-48.434687</td>\n",
       "    </tr>\n",
       "    <tr>\n",
       "      <td>25%</td>\n",
       "      <td>-10.708825</td>\n",
       "      <td>2.176428</td>\n",
       "    </tr>\n",
       "    <tr>\n",
       "      <td>50%</td>\n",
       "      <td>23.787567</td>\n",
       "      <td>33.199436</td>\n",
       "    </tr>\n",
       "    <tr>\n",
       "      <td>75%</td>\n",
       "      <td>33.139751</td>\n",
       "      <td>51.795659</td>\n",
       "    </tr>\n",
       "    <tr>\n",
       "      <td>max</td>\n",
       "      <td>69.323491</td>\n",
       "      <td>88.236960</td>\n",
       "    </tr>\n",
       "  </tbody>\n",
       "</table>\n",
       "</div>"
      ],
      "text/plain": [
       "       return_sap  return_gold\n",
       "count  937.000000   937.000000\n",
       "mean    11.643483    25.547945\n",
       "std     28.418720    31.631553\n",
       "min    -63.075086   -48.434687\n",
       "25%    -10.708825     2.176428\n",
       "50%     23.787567    33.199436\n",
       "75%     33.139751    51.795659\n",
       "max     69.323491    88.236960"
      ]
     },
     "execution_count": 151,
     "metadata": {},
     "output_type": "execute_result"
    }
   ],
   "source": [
    "df[['return_sap', 'return_gold']].describe()"
   ]
  },
  {
   "cell_type": "code",
   "execution_count": 152,
   "metadata": {
    "scrolled": true
   },
   "outputs": [
    {
     "data": {
      "image/png": "[encoded data removed]",
      "text/plain": [
       "<Figure size 360x288 with 1 Axes>"
      ]
     },
     "metadata": {
      "needs_background": "light"
     },
     "output_type": "display_data"
    }
   ],
   "source": [
    "df[['return_sap', 'return_gold']].boxplot(grid=True, figsize=(5,4))\n",
    "plt.title('Cumulated returns')\n",
    "plt.show()"
   ]
  },
  {
   "cell_type": "markdown",
   "metadata": {},
   "source": [
    "Statistics:"
   ]
  },
  {
   "cell_type": "code",
   "execution_count": 153,
   "metadata": {},
   "outputs": [],
   "source": [
    "return_sap, return_gold  = int(round(df['return_sap'].median())), int(round(df['return_gold'].median())) \n",
    "var_sap = int(round(df[df['return_sap'] < 0]['return_sap'].abs().quantile(p)))\n",
    "var_gold = int(round(df[df['return_gold'] < 0]['return_gold'].abs().quantile(p)))"
   ]
  },
  {
   "cell_type": "markdown",
   "metadata": {},
   "source": [
    "Risk statistics:"
   ]
  },
  {
   "cell_type": "code",
   "execution_count": 154,
   "metadata": {},
   "outputs": [
    {
     "name": "stdout",
     "output_type": "stream",
     "text": [
      "VaR SP500: 49 %\n",
      "VaR Gold: 44 %\n"
     ]
    }
   ],
   "source": [
    "print('VaR SP500:', var_sap, '%')\n",
    "print('VaR Gold:', var_gold, '%')"
   ]
  },
  {
   "cell_type": "markdown",
   "metadata": {},
   "source": [
    "Trend statistics:"
   ]
  },
  {
   "cell_type": "code",
   "execution_count": 155,
   "metadata": {},
   "outputs": [
    {
     "name": "stdout",
     "output_type": "stream",
     "text": [
      "Trend regime SP500: 99 %\n",
      "Trend regime Gold: 99 %\n"
     ]
    }
   ],
   "source": [
    "print('Trend regime SP500:' ,int(round(100*df['return_sap'].autocorr(lag=1))), '%')\n",
    "print('Trend regime Gold:' ,int(round(100*df['return_gold'].autocorr(lag=1))), '%')"
   ]
  },
  {
   "cell_type": "markdown",
   "metadata": {},
   "source": [
    "Return statistics, annual:"
   ]
  },
  {
   "cell_type": "code",
   "execution_count": 156,
   "metadata": {},
   "outputs": [
    {
     "name": "stdout",
     "output_type": "stream",
     "text": [
      "Med. return (1Y) SP500: 9 %\n",
      "Med. return (1Y) GOLD: 12 %\n"
     ]
    }
   ],
   "source": [
    "print('Med. return (1Y) SP500:', int(round(return_sap/(horizon/scale))), '%')\n",
    "print('Med. return (1Y) GOLD:', int(round(return_gold/(horizon/scale))), '%')"
   ]
  },
  {
   "cell_type": "markdown",
   "metadata": {},
   "source": [
    "Return at Risk statistics:"
   ]
  },
  {
   "cell_type": "code",
   "execution_count": 157,
   "metadata": {},
   "outputs": [
    {
     "name": "stdout",
     "output_type": "stream",
     "text": [
      "Return at Risk SAP: 0.49\n",
      "Return at Risk GOLD: 0.75\n"
     ]
    }
   ],
   "source": [
    "print('Return at Risk SAP:', round(return_sap/var_sap, 2))\n",
    "print('Return at Risk GOLD:', round(return_gold/var_gold, 2))"
   ]
  }
 ],
 "metadata": {
  "kernelspec": {
   "display_name": "Python 3",
   "language": "python",
   "name": "python3"
  },
  "language_info": {
   "codemirror_mode": {
    "name": "ipython",
    "version": 3
   },
   "file_extension": ".py",
   "mimetype": "text/x-python",
   "name": "python",
   "nbconvert_exporter": "python",
   "pygments_lexer": "ipython3",
   "version": "3.7.3"
  }
 },
 "nbformat": 4,
 "nbformat_minor": 2
}
