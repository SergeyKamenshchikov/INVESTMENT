{
 "cells": [
  {
   "cell_type": "code",
   "execution_count": 153,
   "metadata": {},
   "outputs": [],
   "source": [
    "import pandas as pd\n",
    "import numpy as np\n",
    "import scipy as sc\n",
    "import statsmodels.api as sm\n",
    "import matplotlib.pyplot as plt\n",
    "import matplotlib as matplotlib \n",
    "import math\n",
    "from statsmodels.tsa.stattools import adfuller\n",
    "from scipy import stats"
   ]
  },
  {
   "cell_type": "markdown",
   "metadata": {},
   "source": [
    "Read Gold (D1) data:"
   ]
  },
  {
   "cell_type": "code",
   "execution_count": 154,
   "metadata": {},
   "outputs": [],
   "source": [
    "df=pd.read_csv('quotes/XAUUSD.csv') \n",
    "df.columns=['date','time','open','high','low','close','volume'] \n",
    "df=df[['date','open','close','low','high']]\n",
    "df.set_index('date',inplace=True)\n",
    "df=df.drop(['high','low','open'], axis=1) \n",
    "df.index=pd.to_datetime(df.index)"
   ]
  },
  {
   "cell_type": "markdown",
   "metadata": {},
   "source": [
    "Convert prices to % returns (1) by log function and taking differences (2):"
   ]
  },
  {
   "cell_type": "code",
   "execution_count": 155,
   "metadata": {},
   "outputs": [],
   "source": [
    "df=df.apply(np.log)\n",
    "df=100*df.diff(axis=0,periods=1)\n",
    "df.rename(columns={'close':'Return [Gold]'},inplace=True)\n",
    "df=df.dropna()"
   ]
  },
  {
   "cell_type": "markdown",
   "metadata": {},
   "source": [
    "Normalize (3) in order to make stable regression and factor analysis:"
   ]
  },
  {
   "cell_type": "code",
   "execution_count": 156,
   "metadata": {},
   "outputs": [
    {
     "data": {
      "text/html": [
       "<div>\n",
       "<style scoped>\n",
       "    .dataframe tbody tr th:only-of-type {\n",
       "        vertical-align: middle;\n",
       "    }\n",
       "\n",
       "    .dataframe tbody tr th {\n",
       "        vertical-align: top;\n",
       "    }\n",
       "\n",
       "    .dataframe thead th {\n",
       "        text-align: right;\n",
       "    }\n",
       "</style>\n",
       "<table border=\"1\" class=\"dataframe\">\n",
       "  <thead>\n",
       "    <tr style=\"text-align: right;\">\n",
       "      <th></th>\n",
       "      <th>Return [Gold]</th>\n",
       "    </tr>\n",
       "  </thead>\n",
       "  <tbody>\n",
       "    <tr>\n",
       "      <th>count</th>\n",
       "      <td>2814.000000</td>\n",
       "    </tr>\n",
       "    <tr>\n",
       "      <th>mean</th>\n",
       "      <td>0.667187</td>\n",
       "    </tr>\n",
       "    <tr>\n",
       "      <th>std</th>\n",
       "      <td>0.066868</td>\n",
       "    </tr>\n",
       "    <tr>\n",
       "      <th>min</th>\n",
       "      <td>0.276814</td>\n",
       "    </tr>\n",
       "    <tr>\n",
       "      <th>25%</th>\n",
       "      <td>0.632966</td>\n",
       "    </tr>\n",
       "    <tr>\n",
       "      <th>50%</th>\n",
       "      <td>0.668299</td>\n",
       "    </tr>\n",
       "    <tr>\n",
       "      <th>75%</th>\n",
       "      <td>0.701299</td>\n",
       "    </tr>\n",
       "    <tr>\n",
       "      <th>max</th>\n",
       "      <td>1.000000</td>\n",
       "    </tr>\n",
       "  </tbody>\n",
       "</table>\n",
       "</div>"
      ],
      "text/plain": [
       "       Return [Gold]\n",
       "count    2814.000000\n",
       "mean        0.667187\n",
       "std         0.066868\n",
       "min         0.276814\n",
       "25%         0.632966\n",
       "50%         0.668299\n",
       "75%         0.701299\n",
       "max         1.000000"
      ]
     },
     "execution_count": 156,
     "metadata": {},
     "output_type": "execute_result"
    }
   ],
   "source": [
    "df=(df-df.min())/(df.max()-df.min()) \n",
    "df=df[df>0]\n",
    "df.dropna(inplace=True)\n",
    "df.describe()"
   ]
  },
  {
   "cell_type": "markdown",
   "metadata": {},
   "source": [
    "Max/min are slowly changing parameters which have to be updated on the regular basis. Probability distribution function:"
   ]
  },
  {
   "cell_type": "code",
   "execution_count": 157,
   "metadata": {},
   "outputs": [
    {
     "data": {
      "image/png": "[encoded data removed]",
      "text/plain": [
       "<Figure size 432x288 with 1 Axes>"
      ]
     },
     "metadata": {
      "needs_background": "light"
     },
     "output_type": "display_data"
    }
   ],
   "source": [
    "df.plot.hist(bins=int(np.sqrt(len(df))),rwidth=0.8,alpha=0.8,color='g')\n",
    "plt.show()"
   ]
  },
  {
   "cell_type": "markdown",
   "metadata": {},
   "source": [
    "Look at the outliers:"
   ]
  },
  {
   "cell_type": "code",
   "execution_count": 158,
   "metadata": {},
   "outputs": [
    {
     "data": {
      "image/png": "[encoded data removed]",
      "text/plain": [
       "<Figure size 432x288 with 1 Axes>"
      ]
     },
     "metadata": {
      "needs_background": "light"
     },
     "output_type": "display_data"
    }
   ],
   "source": [
    "df.boxplot(grid=False) \n",
    "plt.show()"
   ]
  },
  {
   "cell_type": "markdown",
   "metadata": {},
   "source": [
    "Create visual representation. Two ranges of are added:"
   ]
  },
  {
   "cell_type": "code",
   "execution_count": 159,
   "metadata": {},
   "outputs": [],
   "source": [
    "description=df.describe()\n",
    "\n",
    "mean=float(description.iloc[1])\n",
    "std=float(description.iloc[2])\n",
    "\n",
    "sct=[1,3] #sigma range\n",
    "\n",
    "u1=round(mean+sct[0]*std,2)\n",
    "u2=round(mean+sct[1]*std,2)\n",
    "\n",
    "l1=round(mean-sct[0]*std,2)\n",
    "l2=round(mean-sct[1]*std,2)"
   ]
  },
  {
   "cell_type": "markdown",
   "metadata": {},
   "source": [
    "Create figure.Recent point is marked by 'bold':"
   ]
  },
  {
   "cell_type": "code",
   "execution_count": 160,
   "metadata": {
    "scrolled": true
   },
   "outputs": [
    {
     "data": {
      "image/png": "[encoded data removed]",
      "text/plain": [
       "<Figure size 432x288 with 1 Axes>"
      ]
     },
     "metadata": {
      "needs_background": "light"
     },
     "output_type": "display_data"
    }
   ],
   "source": [
    "df.plot(color='r',marker='o',linewidth=1, markersize=3)\n",
    "plt.plot(df.index[-1], df.values[-1],'oy',markersize=5)\n",
    "\n",
    "plt.axhline(y=mean,color='g',linestyle='-')\n",
    "plt.axhline(y=u1,color='b',linestyle='--')\n",
    "plt.axhline(y=l1,color='b',linestyle='--')\n",
    "plt.axhline(y=u2,color='black',linestyle='--')\n",
    "plt.axhline(y=l2,color='black',linestyle='--')\n",
    "\n",
    "plt.title('Gold return,%')\n",
    "plt.show()"
   ]
  },
  {
   "cell_type": "markdown",
   "metadata": {},
   "source": [
    "Check return for stationarity by ADF test: "
   ]
  },
  {
   "cell_type": "code",
   "execution_count": 161,
   "metadata": {},
   "outputs": [
    {
     "name": "stdout",
     "output_type": "stream",
     "text": [
      "ADF Statistic: -54.167901\n",
      "p-value: 0.000000\n",
      "Critical Values:\n",
      "\t1%: -3.433\n",
      "\t5%: -2.863\n",
      "\t10%: -2.567\n"
     ]
    }
   ],
   "source": [
    "z=df['Return [Gold]'].values\n",
    "result=adfuller(z)\n",
    "\n",
    "print('ADF Statistic: %f' % result[0])\n",
    "print('p-value: %f' % result[1])\n",
    "\n",
    "print('Critical Values:')\n",
    "for key, value in result[4].items():\n",
    "    print('\\t%s: %.3f' % (key, value))"
   ]
  },
  {
   "cell_type": "markdown",
   "metadata": {},
   "source": [
    "We can reject the null hypothesis - strongly negative ADF statistic. We may define the average mean reversion time in the frame of ARIMA. Define differences of relative returns (price acceleration) and shift first time series:"
   ]
  },
  {
   "cell_type": "code",
   "execution_count": 162,
   "metadata": {},
   "outputs": [],
   "source": [
    "df['Difference']=df['Return [Gold]'].diff() \n",
    "df['Return [Gold]']=df['Return [Gold]'].shift(1,axis = 0)\n",
    "df['Return [Gold]']=df['Return [Gold]']-df['Return [Gold]'].mean()\n",
    "df=df.dropna()"
   ]
  },
  {
   "cell_type": "markdown",
   "metadata": {},
   "source": [
    "Show Person correlation and significance of H0 hypothesis:"
   ]
  },
  {
   "cell_type": "code",
   "execution_count": 163,
   "metadata": {},
   "outputs": [
    {
     "name": "stdout",
     "output_type": "stream",
     "text": [
      "Gold vs Silver return correlation (Pearson): -0.71\n",
      "Gold vs Silver return 2-tailed p-value: 0.0\n"
     ]
    }
   ],
   "source": [
    "pc=sc.stats.pearsonr(list(df['Return [Gold]']),list(df['Difference']))\n",
    "print('Gold vs Silver return correlation (Pearson):',round(pc[0],2))\n",
    "print('Gold vs Silver return 2-tailed p-value:',round(pc[1],2))"
   ]
  },
  {
   "cell_type": "markdown",
   "metadata": {},
   "source": [
    "Scatter plot:"
   ]
  },
  {
   "cell_type": "code",
   "execution_count": 164,
   "metadata": {},
   "outputs": [
    {
     "data": {
      "image/png": "[encoded data removed]",
      "text/plain": [
       "<Figure size 432x288 with 1 Axes>"
      ]
     },
     "metadata": {
      "needs_background": "light"
     },
     "output_type": "display_data"
    },
    {
     "name": "stdout",
     "output_type": "stream",
     "text": [
      "Slope: -1.02\n",
      "Intercept: -0.0\n"
     ]
    }
   ],
   "source": [
    "df.plot.scatter(x='Return [Gold]',y='Difference',color='g') \n",
    "\n",
    "x=list(df['Return [Gold]'])\n",
    "y=list(df['Difference'])\n",
    "\n",
    "z=np.polyfit(x,y,1)\n",
    "p=np.poly1d(z)\n",
    "\n",
    "plt.plot(x,p(x),\"r--\")\n",
    "plt.show()\n",
    "\n",
    "print('Slope:',round(p[1],2))\n",
    "print('Intercept:',round(p[0],2))"
   ]
  },
  {
   "cell_type": "markdown",
   "metadata": {},
   "source": [
    "Calcultation of mean reversion decay time. It is the recommended time of long-short position hold:"
   ]
  },
  {
   "cell_type": "code",
   "execution_count": 165,
   "metadata": {},
   "outputs": [
    {
     "name": "stdout",
     "output_type": "stream",
     "text": [
      "Mean reversion time: 1 day\n"
     ]
    }
   ],
   "source": [
    "print('Mean reversion time:',int(round(-math.log(2)/list(z)[0])),'day')"
   ]
  }
 ],
 "metadata": {
  "kernelspec": {
   "display_name": "Python 3",
   "language": "python",
   "name": "python3"
  },
  "language_info": {
   "codemirror_mode": {
    "name": "ipython",
    "version": 3
   },
   "file_extension": ".py",
   "mimetype": "text/x-python",
   "name": "python",
   "nbconvert_exporter": "python",
   "pygments_lexer": "ipython3",
   "version": "3.7.0"
  }
 },
 "nbformat": 4,
 "nbformat_minor": 2
}
