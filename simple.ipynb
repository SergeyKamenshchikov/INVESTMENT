{
 "cells": [
  {
   "cell_type": "markdown",
   "metadata": {},
   "source": [
    "Import libraries:"
   ]
  },
  {
   "cell_type": "code",
   "execution_count": 550,
   "metadata": {},
   "outputs": [],
   "source": [
    "import pandas as pd\n",
    "import numpy as np\n",
    "import scipy as sc\n",
    "import math\n",
    "import matplotlib.pyplot as plt\n",
    "import matplotlib as matplotlib \n",
    "from statsmodels.tsa.stattools import adfuller\n",
    "from scipy import stats\n",
    "import statsmodels.api as sm\n",
    "from IPython.display import Image\n",
    "from celluloid import Camera\n",
    "from matplotlib.animation import PillowWriter\n",
    "from sklearn.linear_model import LinearRegression\n",
    "from sklearn.model_selection import cross_val_score\n",
    "from sklearn.model_selection import KFold"
   ]
  },
  {
   "cell_type": "markdown",
   "metadata": {},
   "source": [
    "Define custom classes/functions:"
   ]
  },
  {
   "cell_type": "code",
   "execution_count": 551,
   "metadata": {},
   "outputs": [],
   "source": [
    "class LoopingPillowWriter(PillowWriter):\n",
    "    def finish(self):\n",
    "        self._frames[0].save(self._outfile, save_all=True, append_images=self._frames[1:],\n",
    "                             duration=int(1000/self.fps), loop=0)"
   ]
  },
  {
   "cell_type": "markdown",
   "metadata": {},
   "source": [
    "Global parameters:"
   ]
  },
  {
   "cell_type": "code",
   "execution_count": 552,
   "metadata": {},
   "outputs": [],
   "source": [
    "n=20"
   ]
  },
  {
   "cell_type": "markdown",
   "metadata": {},
   "source": [
    "Read Gold (daily close) data:"
   ]
  },
  {
   "cell_type": "code",
   "execution_count": 553,
   "metadata": {},
   "outputs": [],
   "source": [
    "df = pd.read_csv('quotes/XAUUSD.csv') \n",
    "df.columns = ['date','time','open','high','low','close','volume'] \n",
    "df = df[['date','open','close','low','high']]\n",
    "df.set_index('date',inplace=True)\n",
    "df = df.drop(['high','low','open'], axis=1) \n",
    "df.index = pd.to_datetime(df.index)"
   ]
  },
  {
   "cell_type": "markdown",
   "metadata": {},
   "source": [
    "Convert prices to % returns (1) by log function and taking differences (2):"
   ]
  },
  {
   "cell_type": "code",
   "execution_count": 554,
   "metadata": {},
   "outputs": [],
   "source": [
    "df['return'] = df['close'].apply(np.log)\n",
    "df['return'] = 100*df['return'].diff(periods=1)"
   ]
  },
  {
   "cell_type": "markdown",
   "metadata": {},
   "source": [
    "Insert rollings:"
   ]
  },
  {
   "cell_type": "code",
   "execution_count": 555,
   "metadata": {},
   "outputs": [],
   "source": [
    "df['return_median'] = df['return'].rolling(n).median()\n",
    "df['return_mean'] = df['return'].rolling(n).mean()\n",
    "df['delta']=df['return_mean']-df['return_median']\n",
    "df.dropna(inplace=True)"
   ]
  },
  {
   "cell_type": "markdown",
   "metadata": {},
   "source": [
    "Visual statistical description of unrescaled returns. Recent point is marked by yellow: "
   ]
  },
  {
   "cell_type": "code",
   "execution_count": 556,
   "metadata": {
    "scrolled": true
   },
   "outputs": [
    {
     "data": {
      "image/png": "[encoded data removed]",
      "text/plain": [
       "<Figure size 432x288 with 1 Axes>"
      ]
     },
     "metadata": {
      "needs_background": "light"
     },
     "output_type": "display_data"
    }
   ],
   "source": [
    "df[['return']].boxplot(grid=True) \n",
    "plt.show()"
   ]
  },
  {
   "cell_type": "markdown",
   "metadata": {},
   "source": [
    "For Gauss PDF outliers show 3-sigma events. Outliers mark inefficiencies. Probability distribution function:"
   ]
  },
  {
   "cell_type": "code",
   "execution_count": 557,
   "metadata": {},
   "outputs": [
    {
     "data": {
      "image/png": "[encoded data removed]",
      "text/plain": [
       "<Figure size 432x288 with 1 Axes>"
      ]
     },
     "metadata": {
      "needs_background": "light"
     },
     "output_type": "display_data"
    }
   ],
   "source": [
    "df[['return']].plot.hist(bins = int(np.sqrt(len(df))),rwidth = 0.8,alpha = 0.8)\n",
    "plt.show()"
   ]
  },
  {
   "cell_type": "markdown",
   "metadata": {},
   "source": [
    "Test for normal distribution (ND) of PDF:"
   ]
  },
  {
   "cell_type": "code",
   "execution_count": 558,
   "metadata": {},
   "outputs": [
    {
     "name": "stdout",
     "output_type": "stream",
     "text": [
      "Probability that PDF differs from Normal Distribution: 0.0 %\n"
     ]
    }
   ],
   "source": [
    "z,p = stats.normaltest(df['return'])\n",
    "print('Probability that PDF differs from Normal Distribution:',100*round(p,2),'%')"
   ]
  },
  {
   "cell_type": "markdown",
   "metadata": {},
   "source": [
    "Create visual representation. Ranges (1 sigma) of are added:"
   ]
  },
  {
   "cell_type": "code",
   "execution_count": 559,
   "metadata": {},
   "outputs": [],
   "source": [
    "description=df['return'].describe()\n",
    "\n",
    "mean = float(description.iloc[1])\n",
    "std = float(description.iloc[2])\n",
    "\n",
    "u = round(mean+std,2)\n",
    "l = round(mean-std,2)"
   ]
  },
  {
   "cell_type": "markdown",
   "metadata": {},
   "source": [
    "Create figure.Recent point is marked by 'bold':"
   ]
  },
  {
   "cell_type": "markdown",
   "metadata": {},
   "source": [
    "Create animation file:"
   ]
  },
  {
   "cell_type": "code",
   "execution_count": 560,
   "metadata": {},
   "outputs": [
    {
     "data": {
      "image/png": "[encoded data removed]",
      "text/plain": [
       "<Figure size 576x216 with 1 Axes>"
      ]
     },
     "metadata": {
      "needs_background": "light"
     },
     "output_type": "display_data"
    }
   ],
   "source": [
    "fig = plt.figure(figsize=(8,3))\n",
    "plt.title('Gold return,% [1 sigma range]')\n",
    "camera = Camera(fig)\n",
    "\n",
    "for i in range((len(df)-20),len(df)):\n",
    "    \n",
    "    ms='or' if (df['return'].values[i]>u or df['return'].values[i]<l) else 'oy'\n",
    "    plt.plot(df['return'].index[i],df['return'].values[i],ms,markersize=8)\n",
    "    \n",
    "    plt.axhline(y = mean,color='g',linestyle='-')\n",
    "    plt.axhline(y = u,color='b',linestyle='--')\n",
    "    plt.axhline(y = l,color='b',linestyle='--')\n",
    "    \n",
    "    camera.snap()\n",
    "\n",
    "animation = camera.animate()\n",
    "animation.save('series.gif', writer = LoopingPillowWriter(fps=10))  "
   ]
  },
  {
   "cell_type": "markdown",
   "metadata": {},
   "source": [
    "Check return for stationarity by ADF test: "
   ]
  },
  {
   "cell_type": "code",
   "execution_count": 561,
   "metadata": {},
   "outputs": [
    {
     "name": "stdout",
     "output_type": "stream",
     "text": [
      "ADF Statistic: -53.409458\n",
      "p-value: 0.000000\n",
      "Critical Values:\n",
      "\t1%: -3.433\n",
      "\t5%: -2.863\n",
      "\t10%: -2.567\n"
     ]
    }
   ],
   "source": [
    "z = df['return'].values\n",
    "result = adfuller(z)\n",
    "\n",
    "print('ADF Statistic: %f' % result[0])\n",
    "print('p-value: %f' % result[1])\n",
    "\n",
    "print('Critical Values:')\n",
    "for key, value in result[4].items():\n",
    "    print('\\t%s: %.3f' % (key, value))"
   ]
  },
  {
   "cell_type": "markdown",
   "metadata": {},
   "source": [
    "We can reject the null hypothesis - strongly negative ADF statistic. Look at the ACF for rolling return: "
   ]
  },
  {
   "cell_type": "code",
   "execution_count": 562,
   "metadata": {},
   "outputs": [
    {
     "data": {
      "image/png": "[encoded data removed]",
      "text/plain": [
       "<Figure size 432x288 with 1 Axes>"
      ]
     },
     "metadata": {
      "needs_background": "light"
     },
     "output_type": "display_data"
    }
   ],
   "source": [
    "sm.graphics.tsa.plot_acf(df['return'].values, lags=20)\n",
    "plt.show()"
   ]
  },
  {
   "cell_type": "markdown",
   "metadata": {},
   "source": [
    "Distribution function reaches equilibrium at n=. We may define the difference of returns in frame of Ornstein–Uhlenbeck process (geometric Brownian motion with drift):"
   ]
  },
  {
   "cell_type": "markdown",
   "metadata": {},
   "source": [
    "Standartize returns (3):"
   ]
  },
  {
   "cell_type": "code",
   "execution_count": 563,
   "metadata": {},
   "outputs": [],
   "source": [
    "df_oup=df.copy()\n",
    "df_oup['return'] = (df_oup['return']-mean)/std\n",
    "df_oup.dropna(inplace = True)"
   ]
  },
  {
   "cell_type": "markdown",
   "metadata": {},
   "source": [
    "Define differences (4):"
   ]
  },
  {
   "cell_type": "code",
   "execution_count": 564,
   "metadata": {},
   "outputs": [],
   "source": [
    "df_oup = df.copy()\n",
    "df_oup['Difference'] = df_oup['return'].diff() \n",
    "df_oup['return'] = df_oup['return'].shift(1,axis = 0)\n",
    "df_oup.dropna(inplace = True)"
   ]
  },
  {
   "cell_type": "markdown",
   "metadata": {},
   "source": [
    "Mapping of return-difference hides uncertainty - hidden parameters are probably lost. \n",
    "Person correlation and significance of H0 hypothesis:"
   ]
  },
  {
   "cell_type": "code",
   "execution_count": 565,
   "metadata": {},
   "outputs": [
    {
     "name": "stdout",
     "output_type": "stream",
     "text": [
      "Difference vice return correlation (Pearson): -71 %\n",
      "Difference vice return 2-tailed p-value: 0.0\n",
      "Difference vice return R2: 0.5\n"
     ]
    }
   ],
   "source": [
    "pc = sc.stats.pearsonr(list(df_oup['return']),list(df_oup['Difference']))\n",
    "\n",
    "print('Difference vice return correlation (Pearson):',int(100*round(pc[0],2)),'%')\n",
    "print('Difference vice return 2-tailed p-value:',round(pc[1],2))\n",
    "print('Difference vice return R2:',round(pc[0]**2,2))"
   ]
  },
  {
   "cell_type": "markdown",
   "metadata": {},
   "source": [
    "Scatter plot:"
   ]
  },
  {
   "cell_type": "code",
   "execution_count": 566,
   "metadata": {},
   "outputs": [
    {
     "data": {
      "image/png": "[encoded data removed]",
      "text/plain": [
       "<Figure size 432x288 with 1 Axes>"
      ]
     },
     "metadata": {
      "needs_background": "light"
     },
     "output_type": "display_data"
    }
   ],
   "source": [
    "df_oup.plot.scatter(x = 'return',y = 'Difference',color = 'black') \n",
    "\n",
    "x = list(df_oup['return'])\n",
    "y = list(df_oup['Difference'])\n",
    "\n",
    "z = np.polyfit(x,y,1)\n",
    "p = np.poly1d(z)\n",
    "\n",
    "plt.plot(x,p(x),\"r--\")\n",
    "plt.show()"
   ]
  },
  {
   "cell_type": "markdown",
   "metadata": {},
   "source": [
    "Statistics for OLS:"
   ]
  },
  {
   "cell_type": "code",
   "execution_count": 567,
   "metadata": {},
   "outputs": [
    {
     "name": "stdout",
     "output_type": "stream",
     "text": [
      "                            OLS Regression Results                            \n",
      "==============================================================================\n",
      "Dep. Variable:                      y   R-squared:                       0.505\n",
      "Model:                            OLS   Adj. R-squared:                  0.505\n",
      "Method:                 Least Squares   F-statistic:                     2852.\n",
      "Date:                Sun, 08 Sep 2019   Prob (F-statistic):               0.00\n",
      "Time:                        12:39:57   Log-Likelihood:                -3886.3\n",
      "No. Observations:                2800   AIC:                             7775.\n",
      "Df Residuals:                    2799   BIC:                             7781.\n",
      "Df Model:                           1                                         \n",
      "Covariance Type:            nonrobust                                         \n",
      "==============================================================================\n",
      "==============================================================================\n",
      "                 coef    std err          t      P>|t|      [0.025      0.975]\n",
      "------------------------------------------------------------------------------\n",
      "x1            -1.0092      0.019    -53.406      0.000      -1.046      -0.972\n",
      "==============================================================================\n",
      "==============================================================================\n",
      "Omnibus:                      533.346   Durbin-Watson:                   1.999\n",
      "Prob(Omnibus):                  0.000   Jarque-Bera (JB):             4650.007\n",
      "Skew:                          -0.648   Prob(JB):                         0.00\n",
      "Kurtosis:                       9.179   Cond. No.                         1.00\n",
      "==============================================================================\n"
     ]
    }
   ],
   "source": [
    "model = sm.OLS(y,x).fit()\n",
    "print(model.summary().tables[0])\n",
    "print(model.summary().tables[1])\n",
    "print(model.summary().tables[2])"
   ]
  },
  {
   "cell_type": "markdown",
   "metadata": {},
   "source": [
    "High significance of slope factor. Calcultation of mean reversion decay time - return decreases by 4 times. It is the recommended time of position hold:"
   ]
  },
  {
   "cell_type": "code",
   "execution_count": 568,
   "metadata": {},
   "outputs": [
    {
     "name": "stdout",
     "output_type": "stream",
     "text": [
      "Mean reversion time: 1 day\n"
     ]
    }
   ],
   "source": [
    "reverse_time = int(round(-math.log(4)/p[1]))\n",
    "print('Mean reversion time:',reverse_time,'day')"
   ]
  },
  {
   "cell_type": "markdown",
   "metadata": {},
   "source": [
    "Definition of expected return for decay time after inverse rescaling:"
   ]
  },
  {
   "cell_type": "code",
   "execution_count": 569,
   "metadata": {},
   "outputs": [
    {
     "name": "stdout",
     "output_type": "stream",
     "text": [
      "Expected return: -0.52 %\n"
     ]
    }
   ],
   "source": [
    "exp_return=0.25*std*df_oup['return'].values[-1]+mean\n",
    "print('Expected return:',round(exp_return,2),'%')"
   ]
  },
  {
   "cell_type": "markdown",
   "metadata": {},
   "source": [
    "Define position direction:"
   ]
  },
  {
   "cell_type": "code",
   "execution_count": 570,
   "metadata": {},
   "outputs": [
    {
     "name": "stdout",
     "output_type": "stream",
     "text": [
      "Position direction: Short\n"
     ]
    }
   ],
   "source": [
    "direction = ('Long' if exp_return>0 else 'Short')\n",
    "print('Position direction:',direction)"
   ]
  },
  {
   "cell_type": "markdown",
   "metadata": {},
   "source": [
    "Define the weight of strategy allocation according to Sharpe ratio:"
   ]
  },
  {
   "cell_type": "code",
   "execution_count": 571,
   "metadata": {},
   "outputs": [
    {
     "name": "stdout",
     "output_type": "stream",
     "text": [
      "Sharpe weight: 18 %\n"
     ]
    }
   ],
   "source": [
    "fraction = 100*abs(exp_return)/(3*std)\n",
    "print('Sharpe weight:',int(round(fraction)),'%')"
   ]
  }
 ],
 "metadata": {
  "kernelspec": {
   "display_name": "Python 3",
   "language": "python",
   "name": "python3"
  },
  "language_info": {
   "codemirror_mode": {
    "name": "ipython",
    "version": 3
   },
   "file_extension": ".py",
   "mimetype": "text/x-python",
   "name": "python",
   "nbconvert_exporter": "python",
   "pygments_lexer": "ipython3",
   "version": "3.7.0"
  }
 },
 "nbformat": 4,
 "nbformat_minor": 2
}
