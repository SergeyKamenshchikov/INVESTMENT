{
 "cells": [
  {
   "cell_type": "markdown",
   "metadata": {},
   "source": [
    "Import libraries:"
   ]
  },
  {
   "cell_type": "code",
   "execution_count": 11,
   "metadata": {},
   "outputs": [],
   "source": [
    "from scipy.stats.stats import pearsonr \n",
    "from statistics import median\n",
    "import statsmodels.api as sm \n",
    "import statistics\n",
    "\n",
    "import pandas as pd\n",
    "import numpy as np\n",
    "import warnings\n",
    "\n",
    "import quandl\n",
    "import datetime\n",
    "import pandas_datareader as web\n",
    "\n",
    "import matplotlib.pyplot as plt\n",
    "import matplotlib.dates as dates\n",
    "from functools import reduce\n",
    "\n",
    "warnings.filterwarnings('ignore')"
   ]
  },
  {
   "cell_type": "markdown",
   "metadata": {},
   "source": [
    "Parameters:"
   ]
  },
  {
   "cell_type": "code",
   "execution_count": 12,
   "metadata": {},
   "outputs": [],
   "source": [
    "# weeks per year\n",
    "scale = 56\n",
    "test_hor = 2*scale\n",
    "\n",
    "# start and end dates\n",
    "start_date = datetime.datetime(2000,1,1)\n",
    "end_date = datetime.datetime(2020,3,1)\n",
    "\n",
    "# list of assets\n",
    "asset_list = ['SPY','TLT','GOLD','IYR']"
   ]
  },
  {
   "cell_type": "markdown",
   "metadata": {},
   "source": [
    "Custom functions:"
   ]
  },
  {
   "cell_type": "code",
   "execution_count": 13,
   "metadata": {},
   "outputs": [],
   "source": [
    "def wrd_div(n, d):\n",
    "    return n / d if d else 0"
   ]
  },
  {
   "cell_type": "markdown",
   "metadata": {},
   "source": [
    "Read Adj.Close through Yahoo Finance:"
   ]
  },
  {
   "cell_type": "code",
   "execution_count": 14,
   "metadata": {
    "scrolled": false
   },
   "outputs": [
    {
     "data": {
      "text/html": [
       "<div>\n",
       "<style scoped>\n",
       "    .dataframe tbody tr th:only-of-type {\n",
       "        vertical-align: middle;\n",
       "    }\n",
       "\n",
       "    .dataframe tbody tr th {\n",
       "        vertical-align: top;\n",
       "    }\n",
       "\n",
       "    .dataframe thead th {\n",
       "        text-align: right;\n",
       "    }\n",
       "</style>\n",
       "<table border=\"1\" class=\"dataframe\">\n",
       "  <thead>\n",
       "    <tr style=\"text-align: right;\">\n",
       "      <th></th>\n",
       "      <th>SPY</th>\n",
       "      <th>TLT</th>\n",
       "      <th>GOLD</th>\n",
       "      <th>IYR</th>\n",
       "    </tr>\n",
       "  </thead>\n",
       "  <tbody>\n",
       "    <tr>\n",
       "      <th>2002-08-02</th>\n",
       "      <td>61.091061</td>\n",
       "      <td>44.533382</td>\n",
       "      <td>6.458117</td>\n",
       "      <td>18.769566</td>\n",
       "    </tr>\n",
       "    <tr>\n",
       "      <th>2002-08-09</th>\n",
       "      <td>64.258560</td>\n",
       "      <td>45.080460</td>\n",
       "      <td>6.577331</td>\n",
       "      <td>18.645432</td>\n",
       "    </tr>\n",
       "    <tr>\n",
       "      <th>2002-08-16</th>\n",
       "      <td>65.617096</td>\n",
       "      <td>45.175999</td>\n",
       "      <td>6.462229</td>\n",
       "      <td>19.111504</td>\n",
       "    </tr>\n",
       "    <tr>\n",
       "      <th>2002-08-23</th>\n",
       "      <td>66.588455</td>\n",
       "      <td>45.622166</td>\n",
       "      <td>6.084032</td>\n",
       "      <td>19.146643</td>\n",
       "    </tr>\n",
       "    <tr>\n",
       "      <th>2002-08-30</th>\n",
       "      <td>64.603523</td>\n",
       "      <td>46.248894</td>\n",
       "      <td>6.606106</td>\n",
       "      <td>19.530746</td>\n",
       "    </tr>\n",
       "  </tbody>\n",
       "</table>\n",
       "</div>"
      ],
      "text/plain": [
       "                  SPY        TLT      GOLD        IYR\n",
       "2002-08-02  61.091061  44.533382  6.458117  18.769566\n",
       "2002-08-09  64.258560  45.080460  6.577331  18.645432\n",
       "2002-08-16  65.617096  45.175999  6.462229  19.111504\n",
       "2002-08-23  66.588455  45.622166  6.084032  19.146643\n",
       "2002-08-30  64.603523  46.248894  6.606106  19.530746"
      ]
     },
     "execution_count": 14,
     "metadata": {},
     "output_type": "execute_result"
    }
   ],
   "source": [
    "df_list = []\n",
    "\n",
    "for i in range(len(asset_list)):\n",
    "    df_list.append(web.get_data_yahoo(asset_list[i], start=start_date, end=end_date)[['Adj Close']])\n",
    "\n",
    "df = reduce(lambda left,right: pd.merge(left, right, on=['Date'], how='inner'), df_list)\n",
    "df = df.reindex(pd.date_range(start=df.index.min(), end=df.index.max(), freq='W-FRI'))\n",
    "\n",
    "df = df.dropna(how='any', axis=0)\n",
    "df.columns = asset_list\n",
    "df.head()"
   ]
  },
  {
   "cell_type": "markdown",
   "metadata": {},
   "source": [
    "Data properties:"
   ]
  },
  {
   "cell_type": "code",
   "execution_count": 15,
   "metadata": {},
   "outputs": [
    {
     "name": "stdout",
     "output_type": "stream",
     "text": [
      "Number of records: 889\n",
      "Start date: 2002-08-02 \n",
      "End date: 2020-02-28 \n"
     ]
    }
   ],
   "source": [
    "print('Number of records:', len(df))\n",
    "print('Start date:', str(df.index[0])[:11])\n",
    "print('End date:', str(df.index[-1])[:11])"
   ]
  },
  {
   "cell_type": "markdown",
   "metadata": {},
   "source": [
    "Metrics vice horizon:"
   ]
  },
  {
   "cell_type": "code",
   "execution_count": 16,
   "metadata": {},
   "outputs": [
    {
     "name": "stdout",
     "output_type": "stream",
     "text": [
      "Portfolio vice SP500 correlation: 0.52\n"
     ]
    }
   ],
   "source": [
    "df_stat, df_hor, cor = [],[],[]\n",
    "p_med, p_std, p_var = [],[],[]\n",
    "ass_ret, ass_std, ass_var = [],[],[]\n",
    "\n",
    "for i in range(test_hor): \n",
    "    \n",
    "    df_hor.append(i/scale)\n",
    "    df_ret = 100*df.pct_change(periods=i).dropna()\n",
    "    v = df_ret[df_ret <= 0].apply(lambda x : x.abs().quantile(0.95))\n",
    "    \n",
    "    p_ret = (1/len(df_ret.columns))*df_ret.sum(axis = 1, skipna = True)\n",
    "    \n",
    "    p_med.append(p_ret.median())\n",
    "    p_std.append(p_ret.std())\n",
    "    p_var.append(np.quantile(([abs(x) for x in p_ret if x <= 0]), 0.95))\n",
    "\n",
    "    cor.append(pearsonr(list(df_ret['SPY']),list(p_ret))[0])\n",
    "    \n",
    "    df_stat.append(pd.DataFrame({'Return': df_ret.median(), 'Standard': df_ret.std(), 'Value at risk': v}))\n",
    "    \n",
    "print('Portfolio vice SP500 correlation:', round(np.median(cor[1:]),2))  "
   ]
  },
  {
   "cell_type": "markdown",
   "metadata": {},
   "source": [
    "Value at risk (95%), median return vice horizon:"
   ]
  },
  {
   "cell_type": "code",
   "execution_count": 20,
   "metadata": {
    "scrolled": true
   },
   "outputs": [
    {
     "data": {
      "image/png": "[encoded data removed]",
      "text/plain": [
       "<Figure size 720x288 with 2 Axes>"
      ]
     },
     "metadata": {
      "needs_background": "light"
     },
     "output_type": "display_data"
    }
   ],
   "source": [
    "metrics_list = ['Return', 'Standard', 'Value at risk']\n",
    "\n",
    "for item in range(len(df.columns)):  \n",
    "    ass_ret.append(list([float(df_stat[x]['Return'].iloc[item]) for x in range(test_hor)]))\n",
    "    ass_std.append(list([float(df_stat[x]['Standard'].iloc[item]) for x in range(test_hor)]))\n",
    "    ass_var.append(list([float(df_stat[x]['Value at risk'].iloc[item]) for x in range(test_hor)]))  \n",
    "\n",
    "plt.figure(figsize=(10,4))\n",
    "\n",
    "plt.subplot(1, 2, 1)\n",
    "\n",
    "plt.plot(df_hor[1:], ass_var[0][1:], '.-', label=asset_list[0])\n",
    "plt.plot(df_hor[1:], p_var[1:], '.-', label='1/N', color='black')\n",
    "\n",
    "plt.title('Value at risk, %')\n",
    "plt.xlabel('Horizon, years')\n",
    "\n",
    "plt.legend(loc='upper left')\n",
    "plt.xlim(0.1,2)\n",
    "plt.grid(True)\n",
    "\n",
    "plt.subplot(1, 2, 2)\n",
    "\n",
    "plt.plot(df_hor[1:], ass_ret[0][1:], '.-',  markersize=8, label=asset_list[0])   \n",
    "plt.plot(df_hor[1:], p_med[1:], '.-', markersize=8, label='1/N', color='black')\n",
    "\n",
    "plt.title('Median return, %')\n",
    "plt.xlabel('Horizon, years')\n",
    "\n",
    "plt.legend(loc='upper left')\n",
    "plt.xlim(0.1,2)\n",
    "plt.grid(True)\n",
    "\n",
    "plt.tight_layout()"
   ]
  },
  {
   "cell_type": "markdown",
   "metadata": {},
   "source": [
    "Return/Var:"
   ]
  },
  {
   "cell_type": "code",
   "execution_count": 18,
   "metadata": {
    "scrolled": true
   },
   "outputs": [
    {
     "data": {
      "image/png": "[encoded data removed]",
      "text/plain": [
       "<Figure size 432x288 with 1 Axes>"
      ]
     },
     "metadata": {
      "needs_background": "light"
     },
     "output_type": "display_data"
    }
   ],
   "source": [
    "z = [wrd_div(x,y) for x, y in zip(ass_ret[0][1:], ass_var[0][1:])]\n",
    "plt.plot(df_hor[1:], z[:], '.-',  markersize=8, label=asset_list[0])\n",
    "\n",
    "t = [wrd_div(x,y) for x, y in zip(p_med[1:], p_var[1:])]\n",
    "    \n",
    "plt.plot(df_hor[1:], t[:], '.-', markersize=8, label='1/N', color='black')\n",
    "plt.xlabel('Horizon, years')    \n",
    "    \n",
    "plt.title('Return/VaR')\n",
    "plt.xlabel('Horizon, years')\n",
    "\n",
    "plt.xlim(0.1,2)\n",
    "plt.ylim(0,1.2)\n",
    "\n",
    "plt.legend(loc='upper left')\n",
    "plt.grid(True)\n",
    "\n",
    "plt.show()"
   ]
  },
  {
   "cell_type": "markdown",
   "metadata": {},
   "source": [
    "Plot cumulated return vice holding period:"
   ]
  },
  {
   "cell_type": "code",
   "execution_count": 19,
   "metadata": {
    "scrolled": false
   },
   "outputs": [
    {
     "data": {
      "image/png": "[encoded data removed]",
      "text/plain": [
       "<Figure size 432x288 with 1 Axes>"
      ]
     },
     "metadata": {
      "needs_background": "light"
     },
     "output_type": "display_data"
    }
   ],
   "source": [
    "years_num = int(round(len(df)/scale))\n",
    "df_cum = pd.DataFrame(round(100*(df.iloc[-1]-df.iloc[0])/df.iloc[0]))\n",
    "df_annual = (df_cum.transpose()/years_num).astype('int64')\n",
    "\n",
    "p_cum, p_hor = [], []\n",
    "\n",
    "for i in range(1, test_hor):\n",
    "    \n",
    "    df_p = df.iloc[::i].apply(np.log).diff(periods=1).dropna(axis = 0)\n",
    "    df_p = 0.25*df_p.sum(axis=1)\n",
    "    df_p = 100*(df_p+1).product()-1\n",
    "    df_p = df_p/years_num\n",
    "    \n",
    "    p_hor.append(i/scale)\n",
    "    p_cum.append(df_p)\n",
    "\n",
    "plt.plot(p_hor, p_cum, '.', markersize=8, color='red')\n",
    "\n",
    "x,y = np.unique(p_hor), np.poly1d(np.polyfit(p_hor, p_cum, 1))\n",
    "plt.plot(x, y(x), '--', color='black')\n",
    "\n",
    "plt.xlim(0.1,2)\n",
    "plt.ylim(0.8*min(p_cum), 1.2*max(p_cum))\n",
    "\n",
    "plt.xlabel('Holding period, years')\n",
    "plt.title('Cumulated return for 1/N (14 years), %')\n",
    "\n",
    "plt.grid(True)\n",
    "plt.show()"
   ]
  }
 ],
 "metadata": {
  "kernelspec": {
   "display_name": "Python 3",
   "language": "python",
   "name": "python3"
  },
  "language_info": {
   "codemirror_mode": {
    "name": "ipython",
    "version": 3
   },
   "file_extension": ".py",
   "mimetype": "text/x-python",
   "name": "python",
   "nbconvert_exporter": "python",
   "pygments_lexer": "ipython3",
   "version": "3.7.6"
  }
 },
 "nbformat": 4,
 "nbformat_minor": 2
}
