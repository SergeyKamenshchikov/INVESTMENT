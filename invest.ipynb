{
 "cells": [
  {
   "cell_type": "code",
   "execution_count": 2397,
   "metadata": {},
   "outputs": [],
   "source": [
    "import pandas as pd\n",
    "import numpy as np\n",
    "import scipy as sc\n",
    "import statsmodels.api as sm\n",
    "import matplotlib.pyplot as plt\n",
    "import matplotlib as matplotlib \n",
    "import math\n",
    "from sklearn.model_selection import KFold\n",
    "from sklearn.model_selection import cross_val_score\n",
    "from sklearn.linear_model import LinearRegression\n",
    "from statsmodels.tsa.stattools import adfuller\n",
    "from scipy import stats"
   ]
  },
  {
   "cell_type": "markdown",
   "metadata": {},
   "source": [
    "Read Gold (D1) data:"
   ]
  },
  {
   "cell_type": "code",
   "execution_count": 2398,
   "metadata": {},
   "outputs": [],
   "source": [
    "dfG=pd.read_csv('quotes/XAUUSD.csv') \n",
    "dfG.columns=['date','time','open','high','low','close','volume'] \n",
    "dfG=dfG[['date','open','close','low','high']]\n",
    "dfG.set_index('date',inplace=True)\n",
    "dfG=dfG.drop(['high','low','open'], axis=1) \n",
    "dfG.rename(columns={'close':'closeG'},inplace=True)\n",
    "dfG.index=pd.to_datetime(dfG.index)"
   ]
  },
  {
   "cell_type": "markdown",
   "metadata": {},
   "source": [
    "Read Silver (D1) data:"
   ]
  },
  {
   "cell_type": "code",
   "execution_count": 2399,
   "metadata": {},
   "outputs": [],
   "source": [
    "dfS=pd.read_csv('quotes/XAGUSD.csv') \n",
    "dfS.columns=['date','time','open','high','low','close','volume'] \n",
    "dfS=dfS[['date','open','close','low','high']]\n",
    "dfS.set_index('date',inplace=True)\n",
    "dfS=dfS.drop(['high','low','open'], axis=1) \n",
    "dfS.rename(columns={'open':'openS','close':'closeS'},inplace=True)\n",
    "dfS.index=pd.to_datetime(dfS.index)"
   ]
  },
  {
   "cell_type": "markdown",
   "metadata": {},
   "source": [
    "Merging of 2 frames by indexes:"
   ]
  },
  {
   "cell_type": "code",
   "execution_count": 2400,
   "metadata": {},
   "outputs": [
    {
     "name": "stdout",
     "output_type": "stream",
     "text": [
      "Dataframe information:\n",
      "\n",
      "<class 'pandas.core.frame.DataFrame'>\n",
      "DatetimeIndex: 2048 entries, 2011-09-28 to 2019-08-30\n",
      "Data columns (total 2 columns):\n",
      "closeS    2048 non-null float64\n",
      "closeG    2048 non-null float64\n",
      "dtypes: float64(2)\n",
      "memory usage: 48.0 KB\n",
      "None\n"
     ]
    }
   ],
   "source": [
    "df=pd.merge(dfS,dfG,how='inner',left_index=True,right_index=True)\n",
    "df=df.dropna()\n",
    "print('Dataframe information:\\n')\n",
    "print(df.info())"
   ]
  },
  {
   "cell_type": "markdown",
   "metadata": {},
   "source": [
    "Convert prices to returns by log function and taking differences:"
   ]
  },
  {
   "cell_type": "code",
   "execution_count": 2401,
   "metadata": {},
   "outputs": [
    {
     "data": {
      "text/html": [
       "<div>\n",
       "<style scoped>\n",
       "    .dataframe tbody tr th:only-of-type {\n",
       "        vertical-align: middle;\n",
       "    }\n",
       "\n",
       "    .dataframe tbody tr th {\n",
       "        vertical-align: top;\n",
       "    }\n",
       "\n",
       "    .dataframe thead th {\n",
       "        text-align: right;\n",
       "    }\n",
       "</style>\n",
       "<table border=\"1\" class=\"dataframe\">\n",
       "  <thead>\n",
       "    <tr style=\"text-align: right;\">\n",
       "      <th></th>\n",
       "      <th>RetS</th>\n",
       "      <th>RetG</th>\n",
       "    </tr>\n",
       "  </thead>\n",
       "  <tbody>\n",
       "    <tr>\n",
       "      <th>count</th>\n",
       "      <td>2047.000000</td>\n",
       "      <td>2047.000000</td>\n",
       "    </tr>\n",
       "    <tr>\n",
       "      <th>mean</th>\n",
       "      <td>-0.000238</td>\n",
       "      <td>-0.000026</td>\n",
       "    </tr>\n",
       "    <tr>\n",
       "      <th>std</th>\n",
       "      <td>0.015010</td>\n",
       "      <td>0.009312</td>\n",
       "    </tr>\n",
       "    <tr>\n",
       "      <th>min</th>\n",
       "      <td>-0.142630</td>\n",
       "      <td>-0.095693</td>\n",
       "    </tr>\n",
       "    <tr>\n",
       "      <th>25%</th>\n",
       "      <td>-0.007517</td>\n",
       "      <td>-0.004821</td>\n",
       "    </tr>\n",
       "    <tr>\n",
       "      <th>50%</th>\n",
       "      <td>0.000051</td>\n",
       "      <td>0.000167</td>\n",
       "    </tr>\n",
       "    <tr>\n",
       "      <th>75%</th>\n",
       "      <td>0.006982</td>\n",
       "      <td>0.004714</td>\n",
       "    </tr>\n",
       "    <tr>\n",
       "      <th>max</th>\n",
       "      <td>0.070627</td>\n",
       "      <td>0.047798</td>\n",
       "    </tr>\n",
       "  </tbody>\n",
       "</table>\n",
       "</div>"
      ],
      "text/plain": [
       "              RetS         RetG\n",
       "count  2047.000000  2047.000000\n",
       "mean     -0.000238    -0.000026\n",
       "std       0.015010     0.009312\n",
       "min      -0.142630    -0.095693\n",
       "25%      -0.007517    -0.004821\n",
       "50%       0.000051     0.000167\n",
       "75%       0.006982     0.004714\n",
       "max       0.070627     0.047798"
      ]
     },
     "execution_count": 2401,
     "metadata": {},
     "output_type": "execute_result"
    }
   ],
   "source": [
    "df=df[['closeS','closeG']].apply(np.log)\n",
    "df=df.diff(axis=0,periods=1)\n",
    "df=df.dropna()\n",
    "df.rename(columns={'closeS':'RetS','closeG':'RetG'},inplace=True)\n",
    "df.describe()"
   ]
  },
  {
   "cell_type": "markdown",
   "metadata": {},
   "source": [
    "Normalize returns in order to make stable regression and factor analysis:"
   ]
  },
  {
   "cell_type": "code",
   "execution_count": 2402,
   "metadata": {},
   "outputs": [
    {
     "name": "stdout",
     "output_type": "stream",
     "text": [
      "\n",
      "Nulls number:\n",
      "RetS    0\n",
      "RetG    0\n",
      "dtype: int64\n"
     ]
    }
   ],
   "source": [
    "df=(df-df.min())/(df.max()-df.min()) \n",
    "df=df.dropna()\n",
    "print('\\nNulls number:')\n",
    "print(df.isnull().sum())"
   ]
  },
  {
   "cell_type": "markdown",
   "metadata": {},
   "source": [
    "Max/min are slowly changing parameters which have to be updated on the regular basis:"
   ]
  },
  {
   "cell_type": "code",
   "execution_count": 2403,
   "metadata": {},
   "outputs": [
    {
     "data": {
      "image/png": "[encoded data removed]",
      "text/plain": [
       "<Figure size 432x288 with 1 Axes>"
      ]
     },
     "metadata": {
      "needs_background": "light"
     },
     "output_type": "display_data"
    }
   ],
   "source": [
    "df[['RetS','RetG']].plot.hist(bins=int(np.sqrt(len(df))),rwidth=0.8,alpha=0.8)\n",
    "plt.show()"
   ]
  },
  {
   "cell_type": "code",
   "execution_count": 2404,
   "metadata": {},
   "outputs": [
    {
     "data": {
      "text/html": [
       "<div>\n",
       "<style scoped>\n",
       "    .dataframe tbody tr th:only-of-type {\n",
       "        vertical-align: middle;\n",
       "    }\n",
       "\n",
       "    .dataframe tbody tr th {\n",
       "        vertical-align: top;\n",
       "    }\n",
       "\n",
       "    .dataframe thead th {\n",
       "        text-align: right;\n",
       "    }\n",
       "</style>\n",
       "<table border=\"1\" class=\"dataframe\">\n",
       "  <thead>\n",
       "    <tr style=\"text-align: right;\">\n",
       "      <th></th>\n",
       "      <th>RetS</th>\n",
       "      <th>RetG</th>\n",
       "    </tr>\n",
       "  </thead>\n",
       "  <tbody>\n",
       "    <tr>\n",
       "      <th>count</th>\n",
       "      <td>2047.000000</td>\n",
       "      <td>2047.000000</td>\n",
       "    </tr>\n",
       "    <tr>\n",
       "      <th>mean</th>\n",
       "      <td>0.667702</td>\n",
       "      <td>0.666712</td>\n",
       "    </tr>\n",
       "    <tr>\n",
       "      <th>std</th>\n",
       "      <td>0.070385</td>\n",
       "      <td>0.064896</td>\n",
       "    </tr>\n",
       "    <tr>\n",
       "      <th>min</th>\n",
       "      <td>0.000000</td>\n",
       "      <td>0.000000</td>\n",
       "    </tr>\n",
       "    <tr>\n",
       "      <th>25%</th>\n",
       "      <td>0.633569</td>\n",
       "      <td>0.633293</td>\n",
       "    </tr>\n",
       "    <tr>\n",
       "      <th>50%</th>\n",
       "      <td>0.669060</td>\n",
       "      <td>0.668057</td>\n",
       "    </tr>\n",
       "    <tr>\n",
       "      <th>75%</th>\n",
       "      <td>0.701560</td>\n",
       "      <td>0.699742</td>\n",
       "    </tr>\n",
       "    <tr>\n",
       "      <th>max</th>\n",
       "      <td>1.000000</td>\n",
       "      <td>1.000000</td>\n",
       "    </tr>\n",
       "  </tbody>\n",
       "</table>\n",
       "</div>"
      ],
      "text/plain": [
       "              RetS         RetG\n",
       "count  2047.000000  2047.000000\n",
       "mean      0.667702     0.666712\n",
       "std       0.070385     0.064896\n",
       "min       0.000000     0.000000\n",
       "25%       0.633569     0.633293\n",
       "50%       0.669060     0.668057\n",
       "75%       0.701560     0.699742\n",
       "max       1.000000     1.000000"
      ]
     },
     "execution_count": 2404,
     "metadata": {},
     "output_type": "execute_result"
    }
   ],
   "source": [
    "df.describe()"
   ]
  },
  {
   "cell_type": "markdown",
   "metadata": {},
   "source": [
    "Relative volatility is comparable. The arbitrage model can be stable enough. Look at the outliers:"
   ]
  },
  {
   "cell_type": "code",
   "execution_count": 2405,
   "metadata": {},
   "outputs": [
    {
     "data": {
      "image/png": "[encoded data removed]",
      "text/plain": [
       "<Figure size 432x288 with 1 Axes>"
      ]
     },
     "metadata": {
      "needs_background": "light"
     },
     "output_type": "display_data"
    }
   ],
   "source": [
    "df[['RetG','RetS']].boxplot(grid=False) \n",
    "plt.show()"
   ]
  },
  {
   "cell_type": "markdown",
   "metadata": {},
   "source": [
    "Ouliers are not \"bad\". Actually they represent inefficiencies which are required (!) for a good investment opportunity. Let's look at Pearson correlation and significance of H0 hypothesis:"
   ]
  },
  {
   "cell_type": "code",
   "execution_count": 2406,
   "metadata": {},
   "outputs": [
    {
     "name": "stdout",
     "output_type": "stream",
     "text": [
      "Gold vs Silver return correlation (Pearson): 0.82\n",
      "Gold vs Silver return 2-tailed p-value: 0.0\n"
     ]
    }
   ],
   "source": [
    "pc=sc.stats.pearsonr(list(df['RetG']),list(df['RetS']))\n",
    "print('Gold vs Silver return correlation (Pearson):',round(pc[0],2))\n",
    "print('Gold vs Silver return 2-tailed p-value:',round(pc[1],2))"
   ]
  },
  {
   "cell_type": "markdown",
   "metadata": {},
   "source": [
    "Correlation is good enough for arbitrage opportunities. Create scatter plot of Gold vs Silver. Look at the relative return:"
   ]
  },
  {
   "cell_type": "code",
   "execution_count": 2407,
   "metadata": {},
   "outputs": [
    {
     "name": "stdout",
     "output_type": "stream",
     "text": [
      "\n",
      "Nulls number:\n",
      "RetS               0\n",
      "RetG               0\n",
      "Relative return    0\n",
      "dtype: int64\n",
      "\n",
      "Statistical description:\n",
      "count    2046.000000\n",
      "mean        1.001405\n",
      "std         0.063725\n",
      "min         0.725368\n",
      "25%         0.965935\n",
      "50%         0.999808\n",
      "75%         1.032229\n",
      "max         1.418389\n",
      "Name: Relative return, dtype: float64\n"
     ]
    }
   ],
   "source": [
    "df['Relative return']=df['RetG']/df['RetS']\n",
    "df=df.dropna()\n",
    "description=df['Relative return'].describe()\n",
    "\n",
    "print('\\nNulls number:')\n",
    "print(df.isnull().sum())\n",
    "\n",
    "print('\\nStatistical description:')\n",
    "print(description)\n",
    "\n",
    "mean=description[1]\n",
    "std=description[2]\n",
    "\n",
    "u1=round(mean+1*std,2)\n",
    "u2=round(mean+3*std,2)\n",
    "\n",
    "l1=round(mean-1*std,2)\n",
    "l2=round(mean-3*std,2)"
   ]
  },
  {
   "cell_type": "markdown",
   "metadata": {},
   "source": [
    "Create visual representation. Two ranges of 1 sigma and 3 sigma are added. Recent point is marked by 'bold':"
   ]
  },
  {
   "cell_type": "code",
   "execution_count": 2408,
   "metadata": {
    "scrolled": true
   },
   "outputs": [
    {
     "data": {
      "image/png": "[encoded data removed]",
      "text/plain": [
       "<Figure size 720x216 with 1 Axes>"
      ]
     },
     "metadata": {
      "needs_background": "light"
     },
     "output_type": "display_data"
    }
   ],
   "source": [
    "plt.figure(figsize=(10,3))\n",
    "df['Relative return'].plot(color='r',marker='o',linewidth=1, markersize=3)\n",
    "\n",
    "plt.axhline(y=mean,color='g',linestyle='-')\n",
    "\n",
    "plt.axhline(y=u1,color='b',linestyle='--')\n",
    "plt.axhline(y=l1,color='b',linestyle='--')\n",
    "plt.axhline(y=u2,color='black',linestyle='--')\n",
    "plt.axhline(y=l2,color='black',linestyle='--')\n",
    "plt.plot(df['Relative return'].index[-1], df['Relative return'].values[-1],'oy',markersize=5)\n",
    "\n",
    "plt.title('Gold Return / Silver Return')\n",
    "plt.show()"
   ]
  },
  {
   "cell_type": "markdown",
   "metadata": {},
   "source": [
    "Median (50%) is close to the average value."
   ]
  },
  {
   "cell_type": "code",
   "execution_count": 2409,
   "metadata": {},
   "outputs": [
    {
     "data": {
      "image/png": "[encoded data removed]",
      "text/plain": [
       "<Figure size 432x288 with 1 Axes>"
      ]
     },
     "metadata": {
      "needs_background": "light"
     },
     "output_type": "display_data"
    }
   ],
   "source": [
    "df['Relative return'].plot.box(grid=False) \n",
    "plt.show()"
   ]
  },
  {
   "cell_type": "markdown",
   "metadata": {},
   "source": [
    "There are more arbitrage opportunities in the \"overbought\" region. Actually this means panic purchase of gold as the hedge asset. Relative return seems to be mean reverting to the parity. Now we check the relative return for stationarity by ADF test: "
   ]
  },
  {
   "cell_type": "code",
   "execution_count": 2410,
   "metadata": {},
   "outputs": [
    {
     "name": "stdout",
     "output_type": "stream",
     "text": [
      "ADF Statistic: -47.647861\n",
      "p-value: 0.000000\n",
      "Critical Values:\n",
      "\t1%: -3.434\n",
      "\t5%: -2.863\n",
      "\t10%: -2.568\n"
     ]
    }
   ],
   "source": [
    "z=df['Relative return'].values\n",
    "result=adfuller(z)\n",
    "\n",
    "print('ADF Statistic: %f' % result[0])\n",
    "print('p-value: %f' % result[1])\n",
    "\n",
    "print('Critical Values:')\n",
    "for key, value in result[4].items():\n",
    "    print('\\t%s: %.3f' % (key, value))"
   ]
  },
  {
   "cell_type": "markdown",
   "metadata": {},
   "source": [
    "We can reject the null hypothesis of time series stationarity. Strongly negative ADF statistic. Probability distribution of relative return proves that we can rely on the attraction zone:"
   ]
  },
  {
   "cell_type": "code",
   "execution_count": 2411,
   "metadata": {},
   "outputs": [
    {
     "data": {
      "image/png": "[encoded data removed]",
      "text/plain": [
       "<Figure size 432x288 with 1 Axes>"
      ]
     },
     "metadata": {
      "needs_background": "light"
     },
     "output_type": "display_data"
    }
   ],
   "source": [
    "df[['Relative return']].plot.hist(bins=int(np.sqrt(len(df))),rwidth=0.8,color='g',alpha=0.8)\n",
    "plt.show()"
   ]
  },
  {
   "cell_type": "markdown",
   "metadata": {},
   "source": [
    "We may define the average mean reversion time in the frame of ARIMA. First rescale the reverting series by substracting the average. Define differences of relative returns (price acceleration) and shift first time series:"
   ]
  },
  {
   "cell_type": "code",
   "execution_count": 2412,
   "metadata": {},
   "outputs": [],
   "source": [
    "df.drop(['RetS','RetG'],axis=1,inplace=True) \n",
    "df['Relative return']=df['Relative return']-df['Relative return'].mean()\n",
    "df['Difference']=df['Relative return'].diff() \n",
    "df['Relative return']=df['Relative return'].shift(1,axis = 0)\n",
    "df=df.dropna()"
   ]
  },
  {
   "cell_type": "markdown",
   "metadata": {},
   "source": [
    "Make scatter plot:"
   ]
  },
  {
   "cell_type": "code",
   "execution_count": 2413,
   "metadata": {},
   "outputs": [
    {
     "data": {
      "image/png": "[encoded data removed]",
      "text/plain": [
       "<Figure size 432x288 with 1 Axes>"
      ]
     },
     "metadata": {
      "needs_background": "light"
     },
     "output_type": "display_data"
    }
   ],
   "source": [
    "df.plot.scatter(x='Relative return',y='Difference') \n",
    "\n",
    "a=list(df['Relative return'])\n",
    "b=list(df['Difference'])\n",
    "\n",
    "z=np.polyfit(a,b,1)\n",
    "p=np.poly1d(z)\n",
    "\n",
    "plt.plot(a,p(a),\"r--\")\n",
    "plt.show()"
   ]
  },
  {
   "cell_type": "markdown",
   "metadata": {},
   "source": [
    "Show Person correlation and significance of H0 hypothesis: "
   ]
  },
  {
   "cell_type": "code",
   "execution_count": 2414,
   "metadata": {},
   "outputs": [
    {
     "name": "stdout",
     "output_type": "stream",
     "text": [
      "Gold vs Silver return correlation (Pearson): -0.73\n",
      "Gold vs Silver return 2-tailed p-value: 0.0\n"
     ]
    }
   ],
   "source": [
    "pc=sc.stats.pearsonr(list(df['Relative return']),list(df['Difference']))\n",
    "print('Gold vs Silver return correlation (Pearson):',round(pc[0],2))\n",
    "print('Gold vs Silver return 2-tailed p-value:',round(pc[1],2))"
   ]
  },
  {
   "cell_type": "markdown",
   "metadata": {},
   "source": [
    "Calcultation of mean reversion decay time. It is the recommended time of long-short position hold:"
   ]
  },
  {
   "cell_type": "code",
   "execution_count": 2415,
   "metadata": {},
   "outputs": [
    {
     "name": "stdout",
     "output_type": "stream",
     "text": [
      "Mean reversion time: 1 day\n"
     ]
    }
   ],
   "source": [
    "print('Mean reversion time:',int(round(-math.log(2)/list(z)[0])),'day')"
   ]
  }
 ],
 "metadata": {
  "kernelspec": {
   "display_name": "Python 3",
   "language": "python",
   "name": "python3"
  },
  "language_info": {
   "codemirror_mode": {
    "name": "ipython",
    "version": 3
   },
   "file_extension": ".py",
   "mimetype": "text/x-python",
   "name": "python",
   "nbconvert_exporter": "python",
   "pygments_lexer": "ipython3",
   "version": "3.7.0"
  }
 },
 "nbformat": 4,
 "nbformat_minor": 2
}
