{
 "cells": [
  {
   "cell_type": "markdown",
   "metadata": {},
   "source": [
    "Import libraries:"
   ]
  },
  {
   "cell_type": "code",
   "execution_count": 1,
   "metadata": {},
   "outputs": [
    {
     "name": "stderr",
     "output_type": "stream",
     "text": [
      "Using TensorFlow backend.\n"
     ]
    }
   ],
   "source": [
    "import warnings\n",
    "warnings.filterwarnings('ignore')\n",
    "\n",
    "from scipy.stats.stats import pearsonr \n",
    "from statistics import median\n",
    "import statsmodels.api as sm \n",
    "import statistics\n",
    "import seaborn as sns \n",
    "\n",
    "import pandas as pd\n",
    "import numpy as np\n",
    "\n",
    "import quandl\n",
    "import datetime\n",
    "import pandas_datareader as web\n",
    "from sklearn.metrics import classification_report\n",
    "import tqdm\n",
    "\n",
    "from statsmodels.tsa.stattools import adfuller\n",
    "from sklearn.linear_model import LinearRegression\n",
    "\n",
    "import matplotlib.pyplot as plt\n",
    "import matplotlib.dates as dates\n",
    "from functools import reduce\n",
    "import matplotlib as mpl\n",
    "\n",
    "import statsmodels.formula.api as smf\n",
    "from scipy.optimize import minimize\n",
    "import statsmodels.tsa.api as smt\n",
    "import statsmodels.api as sm\n",
    "import scipy.stats as scs\n",
    "\n",
    "from statsmodels.tsa.stattools import acf, pacf\n",
    "from sklearn.linear_model import LogisticRegression\n",
    "\n",
    "from sklearn.metrics import r2_score, median_absolute_error, mean_absolute_error\n",
    "from sklearn.metrics import median_absolute_error, mean_squared_error, mean_squared_log_error\n",
    "from sklearn.model_selection import TimeSeriesSplit\n",
    "\n",
    "from sklearn.metrics import roc_curve\n",
    "from sklearn.metrics import roc_auc_score\n",
    "\n",
    "from sklearn.dummy import DummyClassifier\n",
    "from imblearn.under_sampling import RandomUnderSampler\n",
    "\n",
    "from sklearn.model_selection import train_test_split \n",
    "from sklearn.model_selection import cross_val_score\n",
    "from sklearn.model_selection import StratifiedKFold\n",
    "from sklearn.model_selection import KFold\n",
    "from sklearn import metrics"
   ]
  },
  {
   "cell_type": "markdown",
   "metadata": {},
   "source": [
    "Parameters:"
   ]
  },
  {
   "cell_type": "code",
   "execution_count": 151,
   "metadata": {},
   "outputs": [],
   "source": [
    "# start and end dates\n",
    "start_date = datetime.datetime(2000,1,1)\n",
    "end_date = datetime.datetime(2020,4,29)\n",
    "\n",
    "# list of assets\n",
    "asset_list = ['IYR']\n",
    "\n",
    "# ACF parameters\n",
    "acf_split = 5\n",
    "\n",
    "# EMA parameters\n",
    "ema_str = 6\n",
    "ema_end = 12"
   ]
  },
  {
   "cell_type": "markdown",
   "metadata": {},
   "source": [
    "CDFs:"
   ]
  },
  {
   "cell_type": "code",
   "execution_count": 152,
   "metadata": {},
   "outputs": [],
   "source": [
    "def mean_absolute_percentage_error(y_true, y_pred):\n",
    "    return np.mean(np.abs((y_true - y_pred) / y_true)) * 100\n",
    "\n",
    "def check(lst, val): \n",
    "    return(all(x < val for x in lst))\n",
    "\n",
    "def auc_roc(y_true, y_pred):\n",
    "    value, update_op = tf.contrib.metrics.streaming_auc(y_pred, y_true)\n",
    "    metric_vars = [i for i in tf.local_variables() if 'auc_roc' in i.name.split('/')[1]]\n",
    "\n",
    "    for v in metric_vars:\n",
    "        tf.add_to_collection(tf.GraphKeys.GLOBAL_VARIABLES, v)\n",
    "\n",
    "    with tf.control_dependencies([update_op]):\n",
    "        value = tf.identity(value)\n",
    "        return value\n",
    "    \n",
    "def rolling_window(a, window):\n",
    "    shape = a.shape[:-1] + (a.shape[-1] - window + 1, window)\n",
    "    strides = a.strides + (a.strides[-1],)\n",
    "    return np.lib.stride_tricks.as_strided(a, shape=shape, strides=strides)\n",
    "\n",
    "def product(*args):\n",
    "    if not args:\n",
    "        return iter(((),)) \n",
    "    return (items + (item,) \n",
    "            for items in product(*args[:-1]) for item in args[-1])\n",
    "\n",
    "def timeseries_train_test_split(X, y, test_size):\n",
    "   \n",
    "    test_index = int(len(X)*(1-test_size))\n",
    "    \n",
    "    X_train = X.iloc[:test_index-1]\n",
    "    y_train = y.iloc[:test_index-1]\n",
    "    X_test = X.iloc[test_index:]\n",
    "    y_test = y.iloc[test_index:]\n",
    "    \n",
    "    return X_train, X_test, y_train, y_test\n",
    "\n",
    "def model_stat(z, x, y):\n",
    "    for i in ['f1', 'roc_auc', 'precision', 'recall']:\n",
    "        cv_results = cross_val_score(z, x, y, cv=kfold, scoring=i)\n",
    "        print('---------------------------------------')\n",
    "        print(i.upper())\n",
    "        print('Mean:', (round(100*cv_results.mean())), '%')\n",
    "        print('Std:', (round(100*cv_results.std())), '%')\n",
    "        ('---------------------------------------')"
   ]
  },
  {
   "cell_type": "markdown",
   "metadata": {},
   "source": [
    "### Data preparation"
   ]
  },
  {
   "cell_type": "markdown",
   "metadata": {},
   "source": [
    "Read Adj.Close through Yahoo Finance:"
   ]
  },
  {
   "cell_type": "code",
   "execution_count": 153,
   "metadata": {
    "scrolled": false
   },
   "outputs": [
    {
     "name": "stdout",
     "output_type": "stream",
     "text": [
      "Number of records: 238\n",
      "Start date: 2000-06-30 \n",
      "End date: 2020-03-31 \n"
     ]
    },
    {
     "data": {
      "text/html": [
       "<div>\n",
       "<style scoped>\n",
       "    .dataframe tbody tr th:only-of-type {\n",
       "        vertical-align: middle;\n",
       "    }\n",
       "\n",
       "    .dataframe tbody tr th {\n",
       "        vertical-align: top;\n",
       "    }\n",
       "\n",
       "    .dataframe thead th {\n",
       "        text-align: right;\n",
       "    }\n",
       "</style>\n",
       "<table border=\"1\" class=\"dataframe\">\n",
       "  <thead>\n",
       "    <tr style=\"text-align: right;\">\n",
       "      <th></th>\n",
       "      <th>IYR</th>\n",
       "    </tr>\n",
       "  </thead>\n",
       "  <tbody>\n",
       "    <tr>\n",
       "      <th>2000-06-30</th>\n",
       "      <td>15.079794</td>\n",
       "    </tr>\n",
       "    <tr>\n",
       "      <th>2000-07-31</th>\n",
       "      <td>16.037428</td>\n",
       "    </tr>\n",
       "    <tr>\n",
       "      <th>2000-08-31</th>\n",
       "      <td>15.795547</td>\n",
       "    </tr>\n",
       "    <tr>\n",
       "      <th>2000-10-31</th>\n",
       "      <td>15.365685</td>\n",
       "    </tr>\n",
       "    <tr>\n",
       "      <th>2000-11-30</th>\n",
       "      <td>15.681485</td>\n",
       "    </tr>\n",
       "  </tbody>\n",
       "</table>\n",
       "</div>"
      ],
      "text/plain": [
       "                  IYR\n",
       "2000-06-30  15.079794\n",
       "2000-07-31  16.037428\n",
       "2000-08-31  15.795547\n",
       "2000-10-31  15.365685\n",
       "2000-11-30  15.681485"
      ]
     },
     "execution_count": 153,
     "metadata": {},
     "output_type": "execute_result"
    }
   ],
   "source": [
    "df_list = []\n",
    "\n",
    "for i in range(len(asset_list)):\n",
    "    df_list.append(web.get_data_yahoo(asset_list[i], start=start_date, end=end_date)[['Adj Close']])\n",
    "\n",
    "df = reduce(lambda left,right: pd.merge(left, right, on=['Date'], how='inner'), df_list)\n",
    "df = df.reindex(pd.date_range(start=df.index.min(), end=df.index.max(), freq='M'))\n",
    "\n",
    "print('Number of records:', len(df))\n",
    "print('Start date:', str(df.index[0])[:11])\n",
    "print('End date:', str(df.index[-1])[:11])\n",
    "\n",
    "df = df.dropna(how='any', axis=0)\n",
    "df.columns = asset_list\n",
    "df.head()"
   ]
  },
  {
   "cell_type": "markdown",
   "metadata": {},
   "source": [
    "### Exploratory analysis"
   ]
  },
  {
   "cell_type": "markdown",
   "metadata": {},
   "source": [
    "Autocorr analysis - mean reversion period:"
   ]
  },
  {
   "cell_type": "code",
   "execution_count": 154,
   "metadata": {},
   "outputs": [
    {
     "data": {
      "text/plain": [
       "[]"
      ]
     },
     "execution_count": 154,
     "metadata": {},
     "output_type": "execute_result"
    },
    {
     "data": {
      "image/png": "[encoded data removed]",
      "text/plain": [
       "<Figure size 648x432 with 2 Axes>"
      ]
     },
     "metadata": {
      "needs_background": "light"
     },
     "output_type": "display_data"
    }
   ],
   "source": [
    "data = pd.DataFrame(df[asset_list[0]].copy())\n",
    "data.columns = ['y']\n",
    "\n",
    "for i in range(1, 30):\n",
    "    data['lag_{}'.format(i)] = data.y.shift(i)\n",
    "\n",
    "y = data.dropna().y\n",
    "X = data.dropna().drop(['y'], axis=1)\n",
    "X_train, X_test, y_train, y_test = timeseries_train_test_split(X, y, test_size=0.3)\n",
    "\n",
    "fig, ax = plt.subplots(figsize=(9,6))\n",
    "sns.heatmap(X_train.corr())\n",
    "plt.title('Correlation of features:')\n",
    "plt.plot()"
   ]
  },
  {
   "cell_type": "markdown",
   "metadata": {},
   "source": [
    "### ML: data preparation"
   ]
  },
  {
   "cell_type": "markdown",
   "metadata": {},
   "source": [
    "Prepare features:"
   ]
  },
  {
   "cell_type": "code",
   "execution_count": 258,
   "metadata": {
    "scrolled": true
   },
   "outputs": [
    {
     "data": {
      "text/html": [
       "<div>\n",
       "<style scoped>\n",
       "    .dataframe tbody tr th:only-of-type {\n",
       "        vertical-align: middle;\n",
       "    }\n",
       "\n",
       "    .dataframe tbody tr th {\n",
       "        vertical-align: top;\n",
       "    }\n",
       "\n",
       "    .dataframe thead th {\n",
       "        text-align: right;\n",
       "    }\n",
       "</style>\n",
       "<table border=\"1\" class=\"dataframe\">\n",
       "  <thead>\n",
       "    <tr style=\"text-align: right;\">\n",
       "      <th></th>\n",
       "      <th>IYR</th>\n",
       "      <th>EMA3</th>\n",
       "      <th>EMA4</th>\n",
       "      <th>EMA5</th>\n",
       "      <th>EMA6</th>\n",
       "    </tr>\n",
       "  </thead>\n",
       "  <tbody>\n",
       "    <tr>\n",
       "      <th>2000-07-31</th>\n",
       "      <td>16.037428</td>\n",
       "      <td>15.718217</td>\n",
       "      <td>15.678315</td>\n",
       "      <td>15.654374</td>\n",
       "      <td>15.638414</td>\n",
       "    </tr>\n",
       "    <tr>\n",
       "      <th>2000-08-31</th>\n",
       "      <td>15.795547</td>\n",
       "      <td>15.762405</td>\n",
       "      <td>15.738127</td>\n",
       "      <td>15.721245</td>\n",
       "      <td>15.709051</td>\n",
       "    </tr>\n",
       "    <tr>\n",
       "      <th>2000-10-31</th>\n",
       "      <td>15.365685</td>\n",
       "      <td>15.550821</td>\n",
       "      <td>15.566968</td>\n",
       "      <td>15.573551</td>\n",
       "      <td>15.576422</td>\n",
       "    </tr>\n",
       "    <tr>\n",
       "      <th>2000-11-30</th>\n",
       "      <td>15.681485</td>\n",
       "      <td>15.618261</td>\n",
       "      <td>15.616637</td>\n",
       "      <td>15.614986</td>\n",
       "      <td>15.613297</td>\n",
       "    </tr>\n",
       "    <tr>\n",
       "      <th>2001-01-31</th>\n",
       "      <td>16.842295</td>\n",
       "      <td>16.239992</td>\n",
       "      <td>16.130893</td>\n",
       "      <td>16.063461</td>\n",
       "      <td>16.018216</td>\n",
       "    </tr>\n",
       "  </tbody>\n",
       "</table>\n",
       "</div>"
      ],
      "text/plain": [
       "                  IYR       EMA3       EMA4       EMA5       EMA6\n",
       "2000-07-31  16.037428  15.718217  15.678315  15.654374  15.638414\n",
       "2000-08-31  15.795547  15.762405  15.738127  15.721245  15.709051\n",
       "2000-10-31  15.365685  15.550821  15.566968  15.573551  15.576422\n",
       "2000-11-30  15.681485  15.618261  15.616637  15.614986  15.613297\n",
       "2001-01-31  16.842295  16.239992  16.130893  16.063461  16.018216"
      ]
     },
     "execution_count": 258,
     "metadata": {},
     "output_type": "execute_result"
    }
   ],
   "source": [
    "ema_str = 3\n",
    "ema_end = 12\n",
    "\n",
    "df_list = []\n",
    "\n",
    "for i in range(len(asset_list)):\n",
    "    df_list.append(web.get_data_yahoo(asset_list[i], start=start_date, end=end_date)[['Adj Close']])\n",
    "\n",
    "df = reduce(lambda left,right: pd.merge(left, right, on=['Date'], how='inner'), df_list)\n",
    "df = df.reindex(pd.date_range(start=df.index.min(), end=df.index.max(), freq='M'))\n",
    "df = df.dropna(how='any', axis=0)\n",
    "df.columns = asset_list\n",
    "\n",
    "x = df.columns[0]\n",
    "\n",
    "for i in range(ema_str, ema_end+1):\n",
    "    df['EMA'+str(i)] = df[x].ewm(span=i).mean()\n",
    "    \n",
    "for i in range(ema_str, ema_end+1):\n",
    "    df['dMA'+str(i)] = (df['EMA'+str(i)] - df['EMA'+str(i)].shift())/df['EMA'+str(i)]\n",
    "\n",
    "df['Return'] = df['Ret'] = (df[x] - df[x].shift())/df[x].shift()\n",
    "df['Target'] = (df['Return'] > 0).shift(-1, axis = 0)\n",
    "df['TargetR'] = df['Return'].shift(-1, axis = 0)\n",
    "    \n",
    "df.dropna(inplace=True)\n",
    "df.iloc[:, :5].head()"
   ]
  },
  {
   "cell_type": "markdown",
   "metadata": {},
   "source": [
    "Prepare synthetic features - price target:"
   ]
  },
  {
   "cell_type": "code",
   "execution_count": 259,
   "metadata": {},
   "outputs": [],
   "source": [
    "X = df.filter(regex='dMA')\n",
    "Y = df['Target'].astype(int).values\n",
    "Yr = df['TargetR'].astype(float).values \n",
    "\n",
    "x,y = RandomUnderSampler(sampling_strategy='majority').fit_resample(X, Y)"
   ]
  },
  {
   "cell_type": "markdown",
   "metadata": {},
   "source": [
    "### ML: classification"
   ]
  },
  {
   "cell_type": "markdown",
   "metadata": {},
   "source": [
    "Dummy classifier:"
   ]
  },
  {
   "cell_type": "code",
   "execution_count": 260,
   "metadata": {},
   "outputs": [
    {
     "name": "stdout",
     "output_type": "stream",
     "text": [
      "---------------------------------------\n",
      "F1\n",
      "Mean: 65.0 %\n",
      "Std: 4.0 %\n",
      "---------------------------------------\n",
      "ROC_AUC\n",
      "Mean: 49.0 %\n",
      "Std: 5.0 %\n",
      "---------------------------------------\n",
      "PRECISION\n",
      "Mean: 65.0 %\n",
      "Std: 4.0 %\n",
      "---------------------------------------\n",
      "RECALL\n",
      "Mean: 66.0 %\n",
      "Std: 4.0 %\n"
     ]
    }
   ],
   "source": [
    "model = DummyClassifier(random_state=1)\n",
    "kfold = StratifiedKFold(n_splits=5, shuffle=False, random_state=1)\n",
    "model_stat(model,X,Y)"
   ]
  },
  {
   "cell_type": "markdown",
   "metadata": {},
   "source": [
    "LogReg classifier:"
   ]
  },
  {
   "cell_type": "code",
   "execution_count": 261,
   "metadata": {},
   "outputs": [
    {
     "name": "stdout",
     "output_type": "stream",
     "text": [
      "---------------------------------------\n",
      "F1\n",
      "Mean: 68.0 %\n",
      "Std: 4.0 %\n",
      "---------------------------------------\n",
      "ROC_AUC\n",
      "Mean: 46.0 %\n",
      "Std: 8.0 %\n",
      "---------------------------------------\n",
      "PRECISION\n",
      "Mean: 63.0 %\n",
      "Std: 4.0 %\n",
      "---------------------------------------\n",
      "RECALL\n",
      "Mean: 73.0 %\n",
      "Std: 5.0 %\n"
     ]
    }
   ],
   "source": [
    "model = LogisticRegression(fit_intercept=False, verbose=0, random_state=1)\n",
    "kfold = StratifiedKFold(n_splits=5, shuffle=True, random_state=1)\n",
    "model_stat(model,X,Y)"
   ]
  },
  {
   "cell_type": "markdown",
   "metadata": {},
   "source": [
    "Model factors:"
   ]
  },
  {
   "cell_type": "code",
   "execution_count": 262,
   "metadata": {},
   "outputs": [
    {
     "name": "stdout",
     "output_type": "stream",
     "text": [
      "Intercept: 0.0\n",
      "Coefficients: [-0.02, 0.0, 0.02, 0.03, 0.03, 0.04, 0.04, 0.04, 0.04, 0.05]\n"
     ]
    }
   ],
   "source": [
    "X_train, X_test, Y_train, Y_test = train_test_split(X, Y, test_size=0.3, random_state=7)\n",
    "clf = model.fit(X_train, Y_train)\n",
    "z = list(clf.coef_[0])\n",
    "\n",
    "print('Intercept:', np.round(clf.intercept_[0],2))\n",
    "print('Coefficients:', [np.round(i,2) for i in z])"
   ]
  },
  {
   "cell_type": "markdown",
   "metadata": {},
   "source": [
    "### Model backtest"
   ]
  },
  {
   "cell_type": "markdown",
   "metadata": {},
   "source": [
    "Prepare data:"
   ]
  },
  {
   "cell_type": "code",
   "execution_count": 263,
   "metadata": {},
   "outputs": [
    {
     "data": {
      "image/png": "[encoded data removed]",
      "text/plain": [
       "<Figure size 648x288 with 1 Axes>"
      ]
     },
     "metadata": {
      "needs_background": "light"
     },
     "output_type": "display_data"
    }
   ],
   "source": [
    "ema_str = 3\n",
    "ema_end = 12\n",
    "\n",
    "df_list = []\n",
    "\n",
    "for i in range(len(asset_list)):\n",
    "    df_list.append(web.get_data_yahoo(asset_list[i], start=start_date, end=end_date)[['Adj Close']])\n",
    "\n",
    "df = reduce(lambda left,right: pd.merge(left, right, on=['Date'], how='inner'), df_list)\n",
    "df = df.reindex(pd.date_range(start=df.index.min(), end=df.index.max(), freq='M'))\n",
    "df = df.dropna(how='any', axis=0)\n",
    "df.columns = asset_list\n",
    "\n",
    "x = df.columns[0]\n",
    "\n",
    "for i in range(ema_str, ema_end+1):\n",
    "    df['EMA'+str(i)] = df[x].ewm(span=i).mean()\n",
    "    \n",
    "for i in range(ema_str, ema_end+1):\n",
    "    df['dMA'+str(i)] = (df['EMA'+str(i)] - df['EMA'+str(i)].shift())/df['EMA'+str(i)]\n",
    "\n",
    "df['Return'] = df['Ret'] = (df[x] - df[x].shift())/df[x].shift()\n",
    "df['Target'] = (df['Return'] > 0).shift(-1, axis = 0)\n",
    "df['TargetR'] = df['Return'].shift(-1, axis = 0)\n",
    "    \n",
    "df.dropna(inplace=True)\n",
    "\n",
    "Position = []\n",
    "trades = 0\n",
    "\n",
    "for i in range(0, df.shape[0]):\n",
    "    if min(df.filter(regex='dMA').iloc[i])>0:\n",
    "        Position.append('Long')\n",
    "    else:\n",
    "        Position.append('Cash')\n",
    "        trades = trades +1\n",
    "\n",
    "df['Position'] = Position\n",
    "\n",
    "LongShort = [0]*df[x].shape[0]\n",
    "LongShort[0] = df[x].iloc[0] \n",
    "LongShort[1] = df[x].iloc[0]\n",
    "\n",
    "pos_dur = []\n",
    "dur = 0\n",
    " \n",
    "for i in range(0, df[x].shape[0]-2):\n",
    "    if df['Position'].iloc[i] == 'Long':\n",
    "        LongShort[i+2] = LongShort[i+1] + LongShort[i+1]*df['Return'][i+2]\n",
    "        dur = dur +1\n",
    "    else:\n",
    "        LongShort[i+2] = LongShort[i+1]\n",
    "        pos_dur.append(dur)\n",
    "        dur = 0\n",
    "        \n",
    "pos_dur = [x for x in pos_dur if x > 0]\n",
    "df['LongHold'] = LongShort\n",
    "df.drop(df.tail(1).index,inplace=True)\n",
    "\n",
    "fig = plt.figure(figsize=(9,4))\n",
    "plt.plot(df[x], '.-',  markersize=7, label=asset_list[0])\n",
    "plt.plot(df['LongHold'], '.-',  markersize=7, label='Strategy')\n",
    "\n",
    "plt.legend(loc='upper left')\n",
    "plt.grid(True)\n",
    "plt.show()"
   ]
  },
  {
   "cell_type": "markdown",
   "metadata": {},
   "source": [
    "Strategy performance:"
   ]
  },
  {
   "cell_type": "code",
   "execution_count": 264,
   "metadata": {},
   "outputs": [
    {
     "name": "stdout",
     "output_type": "stream",
     "text": [
      "\n",
      "Benchmark cumulated return: 475 %\n",
      "Strategy cumulated return: 365 %\n",
      "\n",
      "Benchmark Sharpe: 0.19\n",
      "Strategy Sharpe: 0.24\n",
      "\n",
      "Benchmark Var(0.95, 1m): 15 %\n",
      "Strategy Var(0.95, 1m): 7 %\n",
      "\n",
      "Position median duration: 4 m\n",
      "Trades per year: 3\n",
      "\n",
      "Benchmark vice strategy corr: 62 %\n"
     ]
    }
   ],
   "source": [
    "df['Lh_Ret'] = (df['LongHold'] - df['LongHold'].shift())/df['LongHold'].shift()\n",
    "ls_cum = int(round(100*(df['LongHold'][-1] - df['LongHold'][0])/df['LongHold'][0]))\n",
    "bench_cum = int(round(100*(df[x][-1] - df[x][0])/df[x][0]))\n",
    "\n",
    "bench_ann = int(round(100*((df[x][-1]/df[x][0])**(1/int(df.index[-1].year - df.index[0].year))-1)))\n",
    "ls_ann = int(round(100*((df['LongHold'][-1]/df['LongHold'][0])**(1/int(df.index[-1].year - df.index[0].year))-1))) \n",
    "\n",
    "df.dropna(inplace=True)\n",
    "\n",
    "print('\\nBenchmark cumulated return:', bench_cum, '%') \n",
    "print('Strategy cumulated return:', ls_cum, '%') \n",
    "\n",
    "print('\\nBenchmark Sharpe:', round(np.mean(df['Return'])/np.std(df['Return']),2)) \n",
    "print('Strategy Sharpe:', round(np.mean(df['Lh_Ret'])/np.std(df['Lh_Ret']),2)) \n",
    "\n",
    "print('\\nBenchmark Var(0.95, 1m):', int(round(100*np.quantile(([abs(x) for x in df['Return'] if x <= 0]), 0.95))), '%')\n",
    "print('Strategy Var(0.95, 1m):', int(round(100*np.quantile(([abs(x) for x in df['Lh_Ret'] if x <= 0]), 0.95))), '%')\n",
    "\n",
    "print('\\nPosition median duration:', int(round(np.median(pos_dur))),'m')\n",
    "print('Trades per year:', int(round(trades/(df.index[-1].year - df.index[0].year))))\n",
    "\n",
    "print('\\nBenchmark vice strategy corr:', int(round(100*(pearsonr(list(df['Return']),list(df['Lh_Ret']))[0]))), '%') "
   ]
  }
 ],
 "metadata": {
  "kernelspec": {
   "display_name": "Python 3",
   "language": "python",
   "name": "python3"
  },
  "language_info": {
   "codemirror_mode": {
    "name": "ipython",
    "version": 3
   },
   "file_extension": ".py",
   "mimetype": "text/x-python",
   "name": "python",
   "nbconvert_exporter": "python",
   "pygments_lexer": "ipython3",
   "version": "3.7.6"
  }
 },
 "nbformat": 4,
 "nbformat_minor": 2
}
