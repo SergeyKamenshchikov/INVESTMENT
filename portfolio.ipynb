{
 "cells": [
  {
   "cell_type": "markdown",
   "metadata": {},
   "source": [
    "Import libraries:"
   ]
  },
  {
   "cell_type": "code",
   "execution_count": 1,
   "metadata": {},
   "outputs": [
    {
     "name": "stderr",
     "output_type": "stream",
     "text": [
      "Using TensorFlow backend.\n"
     ]
    }
   ],
   "source": [
    "import warnings\n",
    "warnings.filterwarnings('ignore')\n",
    "\n",
    "from scipy.stats.stats import pearsonr \n",
    "from statistics import median\n",
    "import statsmodels.api as sm \n",
    "import statistics\n",
    "import seaborn as sns \n",
    "\n",
    "import pandas as pd\n",
    "import numpy as np\n",
    "\n",
    "import quandl\n",
    "import datetime\n",
    "import pandas_datareader as web\n",
    "from sklearn.metrics import classification_report\n",
    "import tqdm\n",
    "\n",
    "from statsmodels.tsa.stattools import adfuller\n",
    "from sklearn.linear_model import LinearRegression\n",
    "\n",
    "import matplotlib.pyplot as plt\n",
    "import matplotlib.dates as dates\n",
    "from functools import reduce\n",
    "import matplotlib as mpl\n",
    "\n",
    "import statsmodels.formula.api as smf\n",
    "from scipy.optimize import minimize\n",
    "import statsmodels.tsa.api as smt\n",
    "import statsmodels.api as sm\n",
    "import scipy.stats as scs\n",
    "\n",
    "from statsmodels.tsa.stattools import acf, pacf\n",
    "from sklearn.linear_model import LogisticRegression\n",
    "\n",
    "from sklearn.metrics import r2_score, median_absolute_error, mean_absolute_error\n",
    "from sklearn.metrics import median_absolute_error, mean_squared_error, mean_squared_log_error\n",
    "from sklearn.model_selection import TimeSeriesSplit\n",
    "\n",
    "from sklearn.metrics import roc_curve\n",
    "from sklearn.metrics import roc_auc_score\n",
    "\n",
    "from sklearn.dummy import DummyClassifier\n",
    "from imblearn.under_sampling import RandomUnderSampler\n",
    "\n",
    "from sklearn.model_selection import train_test_split \n",
    "from sklearn.model_selection import cross_val_score\n",
    "from sklearn.model_selection import StratifiedKFold\n",
    "from sklearn.model_selection import KFold\n",
    "from sklearn import metrics"
   ]
  },
  {
   "cell_type": "markdown",
   "metadata": {},
   "source": [
    "Parameters:"
   ]
  },
  {
   "cell_type": "code",
   "execution_count": 2,
   "metadata": {},
   "outputs": [],
   "source": [
    "# start and end dates\n",
    "start_date = datetime.datetime(2000,1,1)\n",
    "end_date = datetime.datetime(2020,4,29)\n",
    "\n",
    "# list of assets\n",
    "asset_list = ['^GSPC']\n",
    "\n",
    "# ACF parameters\n",
    "acf_split = 5\n",
    "\n",
    "# EMA parameters\n",
    "ema_str = 6\n",
    "ema_end = 12"
   ]
  },
  {
   "cell_type": "markdown",
   "metadata": {},
   "source": [
    "CDFs:"
   ]
  },
  {
   "cell_type": "code",
   "execution_count": 3,
   "metadata": {},
   "outputs": [],
   "source": [
    "def mean_absolute_percentage_error(y_true, y_pred):\n",
    "    return np.mean(np.abs((y_true - y_pred) / y_true)) * 100\n",
    "\n",
    "def check(lst, val): \n",
    "    return(all(x < val for x in lst))\n",
    "\n",
    "def auc_roc(y_true, y_pred):\n",
    "    value, update_op = tf.contrib.metrics.streaming_auc(y_pred, y_true)\n",
    "    metric_vars = [i for i in tf.local_variables() if 'auc_roc' in i.name.split('/')[1]]\n",
    "\n",
    "    for v in metric_vars:\n",
    "        tf.add_to_collection(tf.GraphKeys.GLOBAL_VARIABLES, v)\n",
    "\n",
    "    with tf.control_dependencies([update_op]):\n",
    "        value = tf.identity(value)\n",
    "        return value\n",
    "    \n",
    "def rolling_window(a, window):\n",
    "    shape = a.shape[:-1] + (a.shape[-1] - window + 1, window)\n",
    "    strides = a.strides + (a.strides[-1],)\n",
    "    return np.lib.stride_tricks.as_strided(a, shape=shape, strides=strides)\n",
    "\n",
    "def product(*args):\n",
    "    if not args:\n",
    "        return iter(((),)) \n",
    "    return (items + (item,) \n",
    "            for items in product(*args[:-1]) for item in args[-1])\n",
    "\n",
    "def timeseries_train_test_split(X, y, test_size):\n",
    "   \n",
    "    test_index = int(len(X)*(1-test_size))\n",
    "    \n",
    "    X_train = X.iloc[:test_index-1]\n",
    "    y_train = y.iloc[:test_index-1]\n",
    "    X_test = X.iloc[test_index:]\n",
    "    y_test = y.iloc[test_index:]\n",
    "    \n",
    "    return X_train, X_test, y_train, y_test\n",
    "\n",
    "def model_stat(z, x, y):\n",
    "    for i in ['f1', 'roc_auc', 'precision', 'recall']:\n",
    "        cv_results = cross_val_score(z, x, y, cv=kfold, scoring=i)\n",
    "        print('---------------------------------------')\n",
    "        print(i.upper())\n",
    "        print('Mean:', (round(100*cv_results.mean())), '%')\n",
    "        print('Std:', (round(100*cv_results.std())), '%')\n",
    "        ('---------------------------------------')"
   ]
  },
  {
   "cell_type": "markdown",
   "metadata": {},
   "source": [
    "### Data preparation"
   ]
  },
  {
   "cell_type": "markdown",
   "metadata": {},
   "source": [
    "Read Adj.Close through Yahoo Finance:"
   ]
  },
  {
   "cell_type": "code",
   "execution_count": 4,
   "metadata": {
    "scrolled": false
   },
   "outputs": [
    {
     "name": "stdout",
     "output_type": "stream",
     "text": [
      "Number of records: 243\n",
      "Start date: 2000-01-31 \n",
      "End date: 2020-03-31 \n"
     ]
    },
    {
     "data": {
      "text/html": [
       "<div>\n",
       "<style scoped>\n",
       "    .dataframe tbody tr th:only-of-type {\n",
       "        vertical-align: middle;\n",
       "    }\n",
       "\n",
       "    .dataframe tbody tr th {\n",
       "        vertical-align: top;\n",
       "    }\n",
       "\n",
       "    .dataframe thead th {\n",
       "        text-align: right;\n",
       "    }\n",
       "</style>\n",
       "<table border=\"1\" class=\"dataframe\">\n",
       "  <thead>\n",
       "    <tr style=\"text-align: right;\">\n",
       "      <th></th>\n",
       "      <th>^GSPC</th>\n",
       "    </tr>\n",
       "  </thead>\n",
       "  <tbody>\n",
       "    <tr>\n",
       "      <th>2000-01-31</th>\n",
       "      <td>1394.459961</td>\n",
       "    </tr>\n",
       "    <tr>\n",
       "      <th>2000-02-29</th>\n",
       "      <td>1366.420044</td>\n",
       "    </tr>\n",
       "    <tr>\n",
       "      <th>2000-03-31</th>\n",
       "      <td>1498.579956</td>\n",
       "    </tr>\n",
       "    <tr>\n",
       "      <th>2000-05-31</th>\n",
       "      <td>1420.599976</td>\n",
       "    </tr>\n",
       "    <tr>\n",
       "      <th>2000-06-30</th>\n",
       "      <td>1454.599976</td>\n",
       "    </tr>\n",
       "  </tbody>\n",
       "</table>\n",
       "</div>"
      ],
      "text/plain": [
       "                  ^GSPC\n",
       "2000-01-31  1394.459961\n",
       "2000-02-29  1366.420044\n",
       "2000-03-31  1498.579956\n",
       "2000-05-31  1420.599976\n",
       "2000-06-30  1454.599976"
      ]
     },
     "execution_count": 4,
     "metadata": {},
     "output_type": "execute_result"
    }
   ],
   "source": [
    "df_list = []\n",
    "\n",
    "for i in range(len(asset_list)):\n",
    "    df_list.append(web.get_data_yahoo(asset_list[i], start=start_date, end=end_date)[['Adj Close']])\n",
    "\n",
    "df = reduce(lambda left,right: pd.merge(left, right, on=['Date'], how='inner'), df_list)\n",
    "df = df.reindex(pd.date_range(start=df.index.min(), end=df.index.max(), freq='M'))\n",
    "\n",
    "print('Number of records:', len(df))\n",
    "print('Start date:', str(df.index[0])[:11])\n",
    "print('End date:', str(df.index[-1])[:11])\n",
    "\n",
    "df = df.dropna(how='any', axis=0)\n",
    "df.columns = asset_list\n",
    "df.head()"
   ]
  },
  {
   "cell_type": "markdown",
   "metadata": {},
   "source": [
    "### Exploratory analysis"
   ]
  },
  {
   "cell_type": "markdown",
   "metadata": {},
   "source": [
    "Autocorr analysis - mean reversion period:"
   ]
  },
  {
   "cell_type": "code",
   "execution_count": 5,
   "metadata": {},
   "outputs": [
    {
     "data": {
      "text/plain": [
       "[]"
      ]
     },
     "execution_count": 5,
     "metadata": {},
     "output_type": "execute_result"
    },
    {
     "data": {
      "image/png": "[encoded data removed]",
      "text/plain": [
       "<Figure size 648x432 with 2 Axes>"
      ]
     },
     "metadata": {
      "needs_background": "light"
     },
     "output_type": "display_data"
    }
   ],
   "source": [
    "data = pd.DataFrame(df[asset_list[0]].copy())\n",
    "data.columns = ['y']\n",
    "\n",
    "for i in range(1, 30):\n",
    "    data['lag_{}'.format(i)] = data.y.shift(i)\n",
    "\n",
    "y = data.dropna().y\n",
    "X = data.dropna().drop(['y'], axis=1)\n",
    "X_train, X_test, y_train, y_test = timeseries_train_test_split(X, y, test_size=0.3)\n",
    "\n",
    "fig, ax = plt.subplots(figsize=(9,6))\n",
    "sns.heatmap(X_train.corr())\n",
    "plt.title('Correlation of features:')\n",
    "plt.plot()"
   ]
  },
  {
   "cell_type": "markdown",
   "metadata": {},
   "source": [
    "### ML: data preparation"
   ]
  },
  {
   "cell_type": "markdown",
   "metadata": {},
   "source": [
    "Prepare features:"
   ]
  },
  {
   "cell_type": "code",
   "execution_count": 6,
   "metadata": {
    "scrolled": true
   },
   "outputs": [
    {
     "data": {
      "text/html": [
       "<div>\n",
       "<style scoped>\n",
       "    .dataframe tbody tr th:only-of-type {\n",
       "        vertical-align: middle;\n",
       "    }\n",
       "\n",
       "    .dataframe tbody tr th {\n",
       "        vertical-align: top;\n",
       "    }\n",
       "\n",
       "    .dataframe thead th {\n",
       "        text-align: right;\n",
       "    }\n",
       "</style>\n",
       "<table border=\"1\" class=\"dataframe\">\n",
       "  <thead>\n",
       "    <tr style=\"text-align: right;\">\n",
       "      <th></th>\n",
       "      <th>^GSPC</th>\n",
       "      <th>EMA6</th>\n",
       "      <th>EMA7</th>\n",
       "      <th>EMA8</th>\n",
       "      <th>EMA9</th>\n",
       "    </tr>\n",
       "  </thead>\n",
       "  <tbody>\n",
       "    <tr>\n",
       "      <th>2000-02-29</th>\n",
       "      <td>1366.420044</td>\n",
       "      <td>1378.103343</td>\n",
       "      <td>1378.437151</td>\n",
       "      <td>1378.687508</td>\n",
       "      <td>1378.882229</td>\n",
       "    </tr>\n",
       "    <tr>\n",
       "      <th>2000-03-31</th>\n",
       "      <td>1498.579956</td>\n",
       "      <td>1432.262554</td>\n",
       "      <td>1430.390797</td>\n",
       "      <td>1429.005064</td>\n",
       "      <td>1427.938675</td>\n",
       "    </tr>\n",
       "    <tr>\n",
       "      <th>2000-05-31</th>\n",
       "      <td>1420.599976</td>\n",
       "      <td>1427.757752</td>\n",
       "      <td>1426.810153</td>\n",
       "      <td>1426.059242</td>\n",
       "      <td>1425.452665</td>\n",
       "    </tr>\n",
       "    <tr>\n",
       "      <th>2000-06-30</th>\n",
       "      <td>1454.599976</td>\n",
       "      <td>1437.178623</td>\n",
       "      <td>1435.919237</td>\n",
       "      <td>1434.925098</td>\n",
       "      <td>1434.123331</td>\n",
       "    </tr>\n",
       "    <tr>\n",
       "      <th>2000-07-31</th>\n",
       "      <td>1430.829956</td>\n",
       "      <td>1435.086918</td>\n",
       "      <td>1434.371443</td>\n",
       "      <td>1433.756327</td>\n",
       "      <td>1433.230643</td>\n",
       "    </tr>\n",
       "  </tbody>\n",
       "</table>\n",
       "</div>"
      ],
      "text/plain": [
       "                  ^GSPC         EMA6         EMA7         EMA8         EMA9\n",
       "2000-02-29  1366.420044  1378.103343  1378.437151  1378.687508  1378.882229\n",
       "2000-03-31  1498.579956  1432.262554  1430.390797  1429.005064  1427.938675\n",
       "2000-05-31  1420.599976  1427.757752  1426.810153  1426.059242  1425.452665\n",
       "2000-06-30  1454.599976  1437.178623  1435.919237  1434.925098  1434.123331\n",
       "2000-07-31  1430.829956  1435.086918  1434.371443  1433.756327  1433.230643"
      ]
     },
     "execution_count": 6,
     "metadata": {},
     "output_type": "execute_result"
    }
   ],
   "source": [
    "ema_str = 6\n",
    "ema_end = 12\n",
    "\n",
    "df_list = []\n",
    "\n",
    "for i in range(len(asset_list)):\n",
    "    df_list.append(web.get_data_yahoo(asset_list[i], start=start_date, end=end_date)[['Adj Close']])\n",
    "\n",
    "df = reduce(lambda left,right: pd.merge(left, right, on=['Date'], how='inner'), df_list)\n",
    "df = df.reindex(pd.date_range(start=df.index.min(), end=df.index.max(), freq='M'))\n",
    "df = df.dropna(how='any', axis=0)\n",
    "df.columns = asset_list\n",
    "\n",
    "x = df.columns[0]\n",
    "\n",
    "for i in range(ema_str, ema_end+1):\n",
    "    df['EMA'+str(i)] = df[x].ewm(span=i).mean()\n",
    "    \n",
    "for i in range(ema_str, ema_end+1):\n",
    "    df['dMA'+str(i)] = (df['EMA'+str(i)] - df['EMA'+str(i)].shift())/df['EMA'+str(i)]\n",
    "\n",
    "df['Return'] = df['Ret'] = (df[x] - df[x].shift())/df[x].shift()\n",
    "df['Target'] = (df['Return'] > 0).shift(-1, axis = 0)\n",
    "df['TargetR'] = df['Return'].shift(-1, axis = 0)\n",
    "    \n",
    "df.dropna(inplace=True)\n",
    "df.iloc[:, :5].head()"
   ]
  },
  {
   "cell_type": "markdown",
   "metadata": {},
   "source": [
    "Prepare synthetic features - price target:"
   ]
  },
  {
   "cell_type": "code",
   "execution_count": 7,
   "metadata": {},
   "outputs": [],
   "source": [
    "X = df.filter(regex='dMA')\n",
    "Y = df['Target'].astype(int).values\n",
    "Yr = df['TargetR'].astype(float).values \n",
    "\n",
    "x,y = RandomUnderSampler(sampling_strategy='majority').fit_resample(X, Y)"
   ]
  },
  {
   "cell_type": "markdown",
   "metadata": {},
   "source": [
    "### ML: classification"
   ]
  },
  {
   "cell_type": "markdown",
   "metadata": {},
   "source": [
    "Dummy classifier:"
   ]
  },
  {
   "cell_type": "code",
   "execution_count": 8,
   "metadata": {},
   "outputs": [
    {
     "name": "stdout",
     "output_type": "stream",
     "text": [
      "---------------------------------------\n",
      "F1\n",
      "Mean: 46.0 %\n",
      "Std: 12.0 %\n",
      "---------------------------------------\n",
      "ROC_AUC\n",
      "Mean: 45.0 %\n",
      "Std: 16.0 %\n",
      "---------------------------------------\n",
      "PRECISION\n",
      "Mean: 48.0 %\n",
      "Std: 18.0 %\n",
      "---------------------------------------\n",
      "RECALL\n",
      "Mean: 46.0 %\n",
      "Std: 7.0 %\n"
     ]
    }
   ],
   "source": [
    "model = DummyClassifier(random_state=1)\n",
    "kfold = StratifiedKFold(n_splits=5, shuffle=False, random_state=1)\n",
    "model_stat(model,x,y)"
   ]
  },
  {
   "cell_type": "markdown",
   "metadata": {},
   "source": [
    "LogReg classifier:"
   ]
  },
  {
   "cell_type": "code",
   "execution_count": 9,
   "metadata": {},
   "outputs": [
    {
     "name": "stdout",
     "output_type": "stream",
     "text": [
      "---------------------------------------\n",
      "F1\n",
      "Mean: 68.0 %\n",
      "Std: 9.0 %\n",
      "---------------------------------------\n",
      "ROC_AUC\n",
      "Mean: 55.0 %\n",
      "Std: 18.0 %\n",
      "---------------------------------------\n",
      "PRECISION\n",
      "Mean: 58.0 %\n",
      "Std: 9.0 %\n",
      "---------------------------------------\n",
      "RECALL\n",
      "Mean: 83.0 %\n",
      "Std: 9.0 %\n"
     ]
    }
   ],
   "source": [
    "model = LogisticRegression(fit_intercept=False, verbose=0, random_state=1)\n",
    "kfold = StratifiedKFold(n_splits=5, shuffle=True, random_state=1)\n",
    "model_stat(model,x,y)"
   ]
  },
  {
   "cell_type": "markdown",
   "metadata": {},
   "source": [
    "Model fit:"
   ]
  },
  {
   "cell_type": "code",
   "execution_count": 10,
   "metadata": {
    "scrolled": true
   },
   "outputs": [
    {
     "name": "stdout",
     "output_type": "stream",
     "text": [
      "\n",
      "Benchmark cumulated return: 41 %\n",
      "Strategy cumulated return: 89 %\n",
      "\n",
      "Benchmark Sharpe: 0.08\n",
      "Strategy Sharpe: 0.17\n",
      "\n",
      "Benchmark Var(0.95, 1m): 12 %\n",
      "Strategy Var(0.95, 1m): 7 %\n",
      "\n",
      "Position median duration: 6 m\n",
      "Benchmark vice strategy corr: 62 %\n"
     ]
    }
   ],
   "source": [
    "t = int(0.8*len(df))\n",
    "\n",
    "X_train, Y_train = X[:t], Y[:t]\n",
    "X_test, Y_test = X[t:], Y[t:]\n",
    "\n",
    "clf = model.fit(X_train, Y_train)\n",
    "df_t = pd.DataFrame(zip(list(clf.predict(X_train)), list(df['^GSPC'].values[:t])), columns=['signal', 'price'])\n",
    "\n",
    "Position = []\n",
    "trades = 0\n",
    "\n",
    "for i in range(0, df_t.shape[0]):\n",
    "    if df_t['signal'].iloc[i] == 1:\n",
    "        Position.append('Long')\n",
    "    else:\n",
    "        Position.append('Cash')\n",
    "        trades = trades +1\n",
    "\n",
    "df_t['Position'] = Position\n",
    "df_t['Ret'] = (df_t['price'] - df_t['price'].shift())/df_t['price'].shift()\n",
    "\n",
    "LongShort = [0]*df_t['price'].shape[0]\n",
    "LongShort[0] = df_t['price'].iloc[0] \n",
    "LongShort[1] = df_t['price'].iloc[0]\n",
    "\n",
    "pos_dur = []\n",
    "dur = 0\n",
    " \n",
    "for i in range(0, df_t.shape[0]-2):\n",
    "    if df_t['Position'].iloc[i] == 'Long':\n",
    "        LongShort[i+2] = LongShort[i+1] + LongShort[i+1]*df_t['Ret'][i+2]\n",
    "        dur = dur +1\n",
    "    else:\n",
    "        LongShort[i+2] = LongShort[i+1]\n",
    "        pos_dur.append(dur)\n",
    "        dur = 0\n",
    "\n",
    "pos_dur = [x for x in pos_dur if x > 0]\n",
    "df_t['LongHold'] = LongShort\n",
    "df.drop(df.tail(1).index,inplace=True)\n",
    "\n",
    "df_t['Lh_Ret'] = (df_t['LongHold'] - df_t['LongHold'].shift())/df_t['LongHold'].shift()\n",
    "ls_cum = int(round(100*(df_t['LongHold'].iloc[-1] - df_t['LongHold'].iloc[0])/df_t['LongHold'][0]))\n",
    "bench_cum = int(round(100*(df_t['price'].iloc[-1] - df_t['price'].iloc[0])/df_t['price'].iloc[0]))\n",
    "\n",
    "df_t.dropna(inplace=True)\n",
    "\n",
    "print('\\nBenchmark cumulated return:', bench_cum, '%') \n",
    "print('Strategy cumulated return:', ls_cum, '%') \n",
    "\n",
    "print('\\nBenchmark Sharpe:', round(np.mean(df_t['Ret'])/np.std(df_t['Ret']),2)) \n",
    "print('Strategy Sharpe:', round(np.mean(df_t['Lh_Ret'])/np.std(df_t['Lh_Ret']),2)) \n",
    "\n",
    "print('\\nBenchmark Var(0.95, 1m):', int(round(100*np.quantile(([abs(x) for x in df_t['Ret'] if x <= 0]), 0.95))), '%')\n",
    "print('Strategy Var(0.95, 1m):', int(round(100*np.quantile(([abs(x) for x in df_t['Lh_Ret'] if x <= 0]), 0.95))), '%')\n",
    "\n",
    "print('\\nPosition median duration:', int(round(np.median(pos_dur))),'m')\n",
    "print('Benchmark vice strategy corr:', int(round(100*(pearsonr(list(df_t['Ret']),list(df_t['Lh_Ret']))[0]))), '%')"
   ]
  },
  {
   "cell_type": "markdown",
   "metadata": {},
   "source": [
    "Plot fit strategy:"
   ]
  },
  {
   "cell_type": "code",
   "execution_count": 18,
   "metadata": {},
   "outputs": [
    {
     "data": {
      "image/png": "[encoded data removed]",
      "text/plain": [
       "<Figure size 576x288 with 1 Axes>"
      ]
     },
     "metadata": {
      "needs_background": "light"
     },
     "output_type": "display_data"
    }
   ],
   "source": [
    "fig = plt.figure(figsize=(8,4))\n",
    "plt.plot(df_t['price'], '-',  markersize=8, label=asset_list[0], linewidth=4)\n",
    "plt.plot(df_t['LongHold'], '-',  markersize=8, label='Strategy', linewidth=4)\n",
    "\n",
    "plt.legend(loc='upper left')\n",
    "plt.grid(True)\n",
    "plt.show()"
   ]
  },
  {
   "cell_type": "markdown",
   "metadata": {},
   "source": [
    "Model predict:"
   ]
  },
  {
   "cell_type": "code",
   "execution_count": 19,
   "metadata": {},
   "outputs": [
    {
     "data": {
      "image/png": "[encoded data removed]",
      "text/plain": [
       "<Figure size 576x288 with 1 Axes>"
      ]
     },
     "metadata": {
      "needs_background": "light"
     },
     "output_type": "display_data"
    },
    {
     "name": "stdout",
     "output_type": "stream",
     "text": [
      "\n",
      "Benchmark cumulated return: 47 %\n",
      "Strategy cumulated return: 55 %\n",
      "\n",
      "Benchmark Sharpe: 0.34\n",
      "Strategy Sharpe: 0.43\n",
      "\n",
      "Benchmark Var(0.95, 1m): 8 %\n",
      "Strategy Var(0.95, 1m): 7 %\n",
      "\n",
      "Position median duration: 3 m\n",
      "Benchmark vice strategy corr: 90 %\n"
     ]
    }
   ],
   "source": [
    "df_m = pd.DataFrame(zip(list(clf.predict(X_test)), list(df['^GSPC'].values[t:])), columns=['signal', 'price'])\n",
    "\n",
    "Position = []\n",
    "trades = 0\n",
    "\n",
    "for i in range(0, df_m.shape[0]):\n",
    "    if df_m['signal'].iloc[i] == 1:\n",
    "        Position.append('Long')\n",
    "    else:\n",
    "        Position.append('Cash')\n",
    "        trades = trades +1\n",
    "\n",
    "df_m['Position'] = Position\n",
    "df_m['Ret'] = (df_m['price'] - df_m['price'].shift())/df_m['price'].shift()\n",
    "\n",
    "LongShort = [0]*df_m['price'].shape[0]\n",
    "LongShort[0] = df_m['price'].iloc[0] \n",
    "LongShort[1] = df_m['price'].iloc[0]\n",
    "\n",
    "pos_dur = []\n",
    "dur = 0\n",
    " \n",
    "for i in range(0, df_m.shape[0]-2):\n",
    "    if df_m['Position'].iloc[i] == 'Long':\n",
    "        LongShort[i+2] = LongShort[i+1] + LongShort[i+1]*df_m['Ret'][i+2]\n",
    "        dur = dur +1\n",
    "    else:\n",
    "        LongShort[i+2] = LongShort[i+1]\n",
    "        pos_dur.append(dur)\n",
    "        dur = 0\n",
    "\n",
    "pos_dur = [x for x in pos_dur if x > 0]\n",
    "df_m['LongHold'] = LongShort\n",
    "df.drop(df.tail(1).index,inplace=True)\n",
    "\n",
    "fig = plt.figure(figsize=(8,4))\n",
    "plt.plot(df_m['price'], '-',  markersize=12, label=asset_list[0], linewidth=4)\n",
    "plt.plot(df_m['LongHold'], '-',  markersize=12, label='Strategy', linewidth=4)\n",
    "\n",
    "plt.legend(loc='upper left')\n",
    "plt.grid(True)\n",
    "plt.show()\n",
    "\n",
    "df_m['Lh_Ret'] = (df_m['LongHold'] - df_m['LongHold'].shift())/df_m['LongHold'].shift()\n",
    "ls_cum = int(round(100*(df_m['LongHold'].iloc[-1] - df_m['LongHold'].iloc[0])/df_m['LongHold'][0]))\n",
    "bench_cum = int(round(100*(df_m['price'].iloc[-1] - df_m['price'].iloc[0])/df_m['price'].iloc[0]))\n",
    "\n",
    "df_m.dropna(inplace=True)\n",
    "\n",
    "print('\\nBenchmark cumulated return:', bench_cum, '%') \n",
    "print('Strategy cumulated return:', ls_cum, '%') \n",
    "\n",
    "print('\\nBenchmark Sharpe:', round(np.mean(df_m['Ret'])/np.std(df_m['Ret']),2)) \n",
    "print('Strategy Sharpe:', round(np.mean(df_m['Lh_Ret'])/np.std(df_m['Lh_Ret']),2)) \n",
    "\n",
    "print('\\nBenchmark Var(0.95, 1m):', int(round(100*np.quantile(([abs(x) for x in df_m['Ret'] if x <= 0]), 0.95))), '%')\n",
    "print('Strategy Var(0.95, 1m):', int(round(100*np.quantile(([abs(x) for x in df_m['Lh_Ret'] if x <= 0]), 0.95))), '%')\n",
    "\n",
    "print('\\nPosition median duration:', int(round(np.median(pos_dur))),'m')\n",
    "print('Benchmark vice strategy corr:', int(round(100*(pearsonr(list(df_m['Ret']),list(df_m['Lh_Ret']))[0]))), '%')"
   ]
  }
 ],
 "metadata": {
  "kernelspec": {
   "display_name": "Python 3",
   "language": "python",
   "name": "python3"
  },
  "language_info": {
   "codemirror_mode": {
    "name": "ipython",
    "version": 3
   },
   "file_extension": ".py",
   "mimetype": "text/x-python",
   "name": "python",
   "nbconvert_exporter": "python",
   "pygments_lexer": "ipython3",
   "version": "3.7.6"
  }
 },
 "nbformat": 4,
 "nbformat_minor": 2
}
